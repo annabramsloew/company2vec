{
 "cells": [
  {
   "cell_type": "code",
   "execution_count": 52,
   "metadata": {},
   "outputs": [],
   "source": [
    "import sys"
   ]
  },
  {
   "cell_type": "code",
   "execution_count": 1,
   "metadata": {},
   "outputs": [
    {
     "name": "stdout",
     "output_type": "stream",
     "text": [
      "/Users/annabramslow/Documents/Company2Vec\n"
     ]
    }
   ],
   "source": [
    "cd /Users/annabramslow/Documents/Company2Vec"
   ]
  },
  {
   "cell_type": "code",
   "execution_count": 2,
   "metadata": {},
   "outputs": [],
   "source": [
    "from dataclasses import dataclass, field\n",
    "from pathlib import Path\n",
    "from typing import List\n",
    "\n",
    "import dask.dataframe as dd\n",
    "import pandas as pd\n",
    "\n",
    "#from ..decorators import save_parquet\n",
    "#from ..ops import sort_partitions\n",
    "#from ..serialize import DATA_ROOT\n",
    "#from .base import FIELD_TYPE, TokenSource\n",
    "#from src.decorators import save_parquet\n",
    "#from src.ops import sort_partitions\n",
    "#from base import FIELD_TYPE, TokenSource\n",
    "#from data_processing.helpers import enrich_with_asof_values"
   ]
  },
  {
   "cell_type": "code",
   "execution_count": 3,
   "metadata": {},
   "outputs": [],
   "source": [
    "def dd_enrich_with_asof_values(\n",
    "    df: dd.DataFrame, \n",
    "    df_registrations: dd.DataFrame, \n",
    "    values=['Industry', 'CompanyType', 'Address', 'Status'], \n",
    "    date_col_df='FromDate', \n",
    "    date_col_registrations='FromDate'\n",
    ") -> dd.DataFrame:\n",
    "    \"\"\"\n",
    "    Adds the as-of values of df_registrations for the entries in df.\n",
    "    Allows different date column names for both dataframes.\n",
    "    \"\"\"\n",
    "\n",
    "    for value in values:\n",
    "        # Load data by filtering df_registrations on ChangeType\n",
    "        df_value = df_registrations.loc[df_registrations['ChangeType'] == value].reset_index(drop=True)\n",
    "\n",
    "        # Special handling for 'Status' value: replace NaN dates with '2000-01-01'\n",
    "        if value == 'Status':\n",
    "            df_value[date_col_registrations] = df_value[date_col_registrations].fillna('2000-01-01')\n",
    "\n",
    "        # Convert date columns to datetime if they are not already in datetime format\n",
    "        df[date_col_df] = dd.to_datetime(df[date_col_df], errors='coerce')\n",
    "        df_value[date_col_registrations] = dd.to_datetime(df_value[date_col_registrations], errors='coerce')\n",
    "\n",
    "        # Select relevant columns and rename 'NewValue' to the current value\n",
    "        df_value = df_value[['CVR', date_col_registrations, 'NewValue']].rename(columns={\n",
    "            date_col_registrations: date_col_df,  # Align the date column names\n",
    "            'NewValue': value  # Rename 'NewValue' to the specific value being processed\n",
    "        })\n",
    "\n",
    "        # Perform the asof merge using Dask's merge_asof function\n",
    "        df = dd.merge_asof(\n",
    "            df.sort_values(date_col_df),\n",
    "            df_value.sort_values(date_col_df),\n",
    "            on=date_col_df,\n",
    "            by='CVR',\n",
    "            direction='backward'\n",
    "        )\n",
    "\n",
    "    return df\n"
   ]
  },
  {
   "cell_type": "code",
   "execution_count": 4,
   "metadata": {},
   "outputs": [],
   "source": [
    "def convert_currency( df: dd.DataFrame, lookup_table: dd.DataFrame, \n",
    "                     amount_cols=['amount'],  # List of columns to convert\n",
    "                     currency_col='currency', \n",
    "                     date_col='PublicationDate',  # The datetime column in df\n",
    "                     ) -> dd.DataFrame:\n",
    "    \"\"\"\n",
    "    Convert multiple currency columns in the DataFrame based on a lookup table for rows where currency is not 'DKK'.\n",
    "    \n",
    "    Args:\n",
    "        df (dd.DataFrame): The main dataframe with amounts to convert.\n",
    "        lookup_table (dd.DataFrame): The lookup table containing conversion rates.\n",
    "        amount_cols (list): List of column names in df containing amounts to be converted.\n",
    "        currency_col (str): Column name in df containing currency information.\n",
    "        date_col (str): Column name for datetime in df to extract year and month from.\n",
    "    \n",
    "    Returns:\n",
    "        dd.DataFrame: DataFrame with currency conversion applied to the specified amount columns.\n",
    "    \"\"\"\n",
    "\n",
    "    # 1. Filter rows where the currency is not 'DKK'\n",
    "    non_dkk_df = df[df[currency_col] != 'DKK']\n",
    "    dkk_df = df[df[currency_col] == 'DKK']  # Keep these rows unchanged\n",
    "\n",
    "    # 2. Extract year and month from the PublicationDate column\n",
    "    non_dkk_df['year'] = non_dkk_df[date_col].dt.year\n",
    "    non_dkk_df['month'] = non_dkk_df[date_col].dt.month\n",
    "\n",
    "    # 3. Perform a join to find the correct rate for each non-DKK row\n",
    "    merged_df = dd.merge(\n",
    "        non_dkk_df,\n",
    "        lookup_table,\n",
    "        left_on=[currency_col, 'year', 'month'],\n",
    "        right_on=['from_currency', 'year', 'month'],\n",
    "        how='left'\n",
    "    )\n",
    "\n",
    "    # 4. Apply currency conversion for each amount column\n",
    "    for col in amount_cols:\n",
    "        merged_df[col] = merged_df[col] * merged_df['rate']\n",
    "\n",
    "    # 5. Drop unnecessary columns (from the lookup table like 'rate', 'from_currency')\n",
    "    merged_df = merged_df.drop(columns=['rate', 'from_currency', 'year', 'month'])\n",
    "\n",
    "    # 6. Concatenate the DKK and non-DKK dataframes\n",
    "    final_df = dd.concat([dkk_df, merged_df])\n",
    "\n",
    "    return final_df"
   ]
  },
  {
   "cell_type": "code",
   "execution_count": 5,
   "metadata": {},
   "outputs": [],
   "source": [
    "DATA_ROOT = Path.home() / \"Library\" / \"CloudStorage\" / \"Dropbox\" / \"DTU\" / \"Virk2Vec\" / \"Tables\"\n",
    "path_financials = DATA_ROOT / \"Financials\"\n",
    "path_registrations = DATA_ROOT / \"Registrations\"\n",
    "path_currency = DATA_ROOT / \"Currency\""
   ]
  },
  {
   "cell_type": "code",
   "execution_count": 6,
   "metadata": {},
   "outputs": [],
   "source": [
    "#load files from the path_financials folder\n",
    "\n",
    "# Example: Get all .txt files in the folder\n",
    "financials_csv = [file for file in path_financials.iterdir() if file.is_file() and file.suffix == '.csv']\n",
    "registrations_csv = [file for file in path_registrations.iterdir() if file.is_file() and file.suffix == '.csv']\n",
    "currency_csv = [file for file in path_currency.iterdir() if file.is_file() and file.suffix == '.csv']\n"
   ]
  },
  {
   "cell_type": "code",
   "execution_count": 7,
   "metadata": {},
   "outputs": [],
   "source": [
    "columns_registrations = [\n",
    "    \"CVR\",\n",
    "    \"FromDate\",\n",
    "    \"ChangeType\",\n",
    "    \"NewValue\"\n",
    "]\n",
    "\n",
    "columns_annualreport = [\n",
    "    \"CVR\",\n",
    "    \"PublicationDate\",\n",
    "    \"Currency\",\n",
    "    \"ProfitLoss\",\n",
    "    \"Equity\", \n",
    "    \"Assets\", \n",
    "    \"LiabilitiesAndEquity\"\n",
    "]\n",
    "\n",
    "columns_currency = [\n",
    "    \"year\",\n",
    "    \"month\",\n",
    "    \"from_currency\",\n",
    "    \"rate\"\n",
    "]"
   ]
  },
  {
   "cell_type": "code",
   "execution_count": 21,
   "metadata": {},
   "outputs": [],
   "source": [
    "ddf_registrations = dd.read_csv(\n",
    "    registrations_csv,\n",
    "    usecols=columns_registrations,\n",
    "    on_bad_lines=\"error\",\n",
    "    assume_missing=True,\n",
    "    dtype={\n",
    "        \"CVR\": int,\n",
    "        \"FromDate\": str,\n",
    "        \"ChangeType\": str,\n",
    "        \"NewValue\": str\n",
    "    },\n",
    "    blocksize=\"256MB\")"
   ]
  },
  {
   "cell_type": "code",
   "execution_count": 22,
   "metadata": {},
   "outputs": [],
   "source": [
    "ddf_annualreport = dd.read_csv(\n",
    "    financials_csv,\n",
    "    usecols=columns_annualreport,\n",
    "    on_bad_lines=\"error\",\n",
    "    assume_missing=True,\n",
    "    dtype={\n",
    "        \"CVR\": int,\n",
    "        \"PublicationDate\": str,\n",
    "        \"Currency\": str,\n",
    "        \"ProfitLoss\": float,  # Deal with missing values\n",
    "        \"Equity\": float,\n",
    "        \"Assets\": float,\n",
    "        \"LiabilitiesAndEquity\": float,\n",
    "    },\n",
    "    blocksize=\"256MB\")"
   ]
  },
  {
   "cell_type": "code",
   "execution_count": 23,
   "metadata": {},
   "outputs": [],
   "source": [
    "ddf_currency = dd.read_csv(\n",
    "    currency_csv,\n",
    "    usecols=columns_currency,\n",
    "    on_bad_lines=\"error\",\n",
    "    assume_missing=True,\n",
    "    dtype={\n",
    "        \"year\": int,\n",
    "        \"month\": int,\n",
    "        \"from_currency\": str,\n",
    "        \"rate\": float\n",
    "    },\n",
    "    blocksize=\"256MB\")"
   ]
  },
  {
   "cell_type": "code",
   "execution_count": 25,
   "metadata": {},
   "outputs": [],
   "source": [
    "#enrich the annual report with asof values from the registrations\n",
    "ddf = dd_enrich_with_asof_values(\n",
    "    ddf_annualreport, \n",
    "    ddf_registrations, \n",
    "    values=['Industry', 'CompanyType', 'Address', 'Status'], \n",
    "    date_col_df='PublicationDate', \n",
    "    date_col_registrations='FromDate'\n",
    "    )"
   ]
  },
  {
   "cell_type": "code",
   "execution_count": 26,
   "metadata": {},
   "outputs": [],
   "source": [
    "# convert currency\n",
    "ddf = convert_currency(ddf, ddf_currency, \n",
    "                        amount_cols=['ProfitLoss', 'Equity', 'Assets', 'LiabilitiesAndEquity'], \n",
    "                        currency_col='Currency', \n",
    "                        date_col='PublicationDate')"
   ]
  },
  {
   "cell_type": "code",
   "execution_count": 28,
   "metadata": {},
   "outputs": [
    {
     "data": {
      "text/plain": [
       "Index(['PublicationDate', 'CVR', 'ProfitLoss', 'Assets', 'Equity',\n",
       "       'LiabilitiesAndEquity', 'Industry', 'CompanyType', 'Address', 'Status'],\n",
       "      dtype='object')"
      ]
     },
     "execution_count": 28,
     "metadata": {},
     "output_type": "execute_result"
    }
   ],
   "source": [
    "#drop currency column\n",
    "ddf = ddf.drop(columns=['Currency'])\n",
    "\n",
    "#print list of column names\n",
    "columns = ddf.columns\n",
    "columns"
   ]
  },
  {
   "cell_type": "code",
   "execution_count": 29,
   "metadata": {},
   "outputs": [],
   "source": [
    "output_columns = [\n",
    "    \"START_DATE\",\n",
    "    \"CVR\",\n",
    "    \"PROFIT_LOSS\",\n",
    "    \"ASSETS\",\n",
    "    \"EQUTY\",\n",
    "    \"LIABILITIES_AND_EQUITY\",\n",
    "    \"INDUSTRY\",\n",
    "    \"COMPANY_TYPE\",\n",
    "    \"MUNICIPALITY\",\n",
    "    \"STATUS\"\n",
    "]"
   ]
  },
  {
   "cell_type": "code",
   "execution_count": 30,
   "metadata": {},
   "outputs": [
    {
     "data": {
      "text/plain": [
       "{'PublicationDate': 'START_DATE',\n",
       " 'CVR': 'CVR',\n",
       " 'ProfitLoss': 'PROFIT_LOSS',\n",
       " 'Assets': 'ASSETS',\n",
       " 'Equity': 'EQUTY',\n",
       " 'LiabilitiesAndEquity': 'LIABILITIES_AND_EQUITY',\n",
       " 'Industry': 'INDUSTRY',\n",
       " 'CompanyType': 'COMPANY_TYPE',\n",
       " 'Address': 'MUNICIPALITY',\n",
       " 'Status': 'STATUS'}"
      ]
     },
     "execution_count": 30,
     "metadata": {},
     "output_type": "execute_result"
    }
   ],
   "source": [
    "dict(zip(columns, output_columns))"
   ]
  },
  {
   "cell_type": "code",
   "execution_count": 31,
   "metadata": {},
   "outputs": [],
   "source": [
    "ddf = ddf.rename(columns=dict(zip(columns, output_columns)))"
   ]
  },
  {
   "cell_type": "code",
   "execution_count": 32,
   "metadata": {},
   "outputs": [
    {
     "data": {
      "text/html": [
       "<div>\n",
       "<style scoped>\n",
       "    .dataframe tbody tr th:only-of-type {\n",
       "        vertical-align: middle;\n",
       "    }\n",
       "\n",
       "    .dataframe tbody tr th {\n",
       "        vertical-align: top;\n",
       "    }\n",
       "\n",
       "    .dataframe thead th {\n",
       "        text-align: right;\n",
       "    }\n",
       "</style>\n",
       "<table border=\"1\" class=\"dataframe\">\n",
       "  <thead>\n",
       "    <tr style=\"text-align: right;\">\n",
       "      <th></th>\n",
       "      <th>START_DATE</th>\n",
       "      <th>CVR</th>\n",
       "      <th>PROFIT_LOSS</th>\n",
       "      <th>ASSETS</th>\n",
       "      <th>EQUTY</th>\n",
       "      <th>LIABILITIES_AND_EQUITY</th>\n",
       "      <th>INDUSTRY</th>\n",
       "      <th>COMPANY_TYPE</th>\n",
       "      <th>MUNICIPALITY</th>\n",
       "      <th>STATUS</th>\n",
       "    </tr>\n",
       "  </thead>\n",
       "  <tbody>\n",
       "    <tr>\n",
       "      <th>0</th>\n",
       "      <td>2013-01-01</td>\n",
       "      <td>20643048</td>\n",
       "      <td>7616.0</td>\n",
       "      <td>45074.0</td>\n",
       "      <td>27149.0</td>\n",
       "      <td>45074.0</td>\n",
       "      <td>731110</td>\n",
       "      <td>APS</td>\n",
       "      <td>8260</td>\n",
       "      <td>NORMAL</td>\n",
       "    </tr>\n",
       "    <tr>\n",
       "      <th>1</th>\n",
       "      <td>2013-01-01</td>\n",
       "      <td>19217388</td>\n",
       "      <td>43393.0</td>\n",
       "      <td>516985.0</td>\n",
       "      <td>455341.0</td>\n",
       "      <td>516985.0</td>\n",
       "      <td>412000</td>\n",
       "      <td>APS</td>\n",
       "      <td>2150</td>\n",
       "      <td>NORMAL</td>\n",
       "    </tr>\n",
       "    <tr>\n",
       "      <th>2</th>\n",
       "      <td>2013-01-01</td>\n",
       "      <td>31476836</td>\n",
       "      <td>426447.0</td>\n",
       "      <td>1137021.0</td>\n",
       "      <td>614372.0</td>\n",
       "      <td>1137021.0</td>\n",
       "      <td>711290</td>\n",
       "      <td>APS</td>\n",
       "      <td>7500</td>\n",
       "      <td>NORMAL</td>\n",
       "    </tr>\n",
       "    <tr>\n",
       "      <th>3</th>\n",
       "      <td>2013-01-01</td>\n",
       "      <td>25512294</td>\n",
       "      <td>613702.0</td>\n",
       "      <td>4505529.0</td>\n",
       "      <td>2335109.0</td>\n",
       "      <td>4505529.0</td>\n",
       "      <td>692000</td>\n",
       "      <td>APS</td>\n",
       "      <td>8240</td>\n",
       "      <td>NORMAL</td>\n",
       "    </tr>\n",
       "    <tr>\n",
       "      <th>4</th>\n",
       "      <td>2013-01-01</td>\n",
       "      <td>27285627</td>\n",
       "      <td>-313745.0</td>\n",
       "      <td>3378351.0</td>\n",
       "      <td>13717.0</td>\n",
       "      <td>3378351.0</td>\n",
       "      <td>682030</td>\n",
       "      <td>APS</td>\n",
       "      <td>5250</td>\n",
       "      <td>NORMAL</td>\n",
       "    </tr>\n",
       "  </tbody>\n",
       "</table>\n",
       "</div>"
      ],
      "text/plain": [
       "  START_DATE       CVR  PROFIT_LOSS     ASSETS      EQUTY  \\\n",
       "0 2013-01-01  20643048       7616.0    45074.0    27149.0   \n",
       "1 2013-01-01  19217388      43393.0   516985.0   455341.0   \n",
       "2 2013-01-01  31476836     426447.0  1137021.0   614372.0   \n",
       "3 2013-01-01  25512294     613702.0  4505529.0  2335109.0   \n",
       "4 2013-01-01  27285627    -313745.0  3378351.0    13717.0   \n",
       "\n",
       "   LIABILITIES_AND_EQUITY INDUSTRY COMPANY_TYPE MUNICIPALITY  STATUS  \n",
       "0                 45074.0   731110          APS         8260  NORMAL  \n",
       "1                516985.0   412000          APS         2150  NORMAL  \n",
       "2               1137021.0   711290          APS         7500  NORMAL  \n",
       "3               4505529.0   692000          APS         8240  NORMAL  \n",
       "4               3378351.0   682030          APS         5250  NORMAL  "
      ]
     },
     "execution_count": 32,
     "metadata": {},
     "output_type": "execute_result"
    }
   ],
   "source": [
    "#show head of the dataframe\n",
    "ddf.head()"
   ]
  },
  {
   "cell_type": "code",
   "execution_count": null,
   "metadata": {},
   "outputs": [],
   "source": []
  }
 ],
 "metadata": {
  "kernelspec": {
   "display_name": "ABA",
   "language": "python",
   "name": "python3"
  },
  "language_info": {
   "codemirror_mode": {
    "name": "ipython",
    "version": 3
   },
   "file_extension": ".py",
   "mimetype": "text/x-python",
   "name": "python",
   "nbconvert_exporter": "python",
   "pygments_lexer": "ipython3",
   "version": "3.9.12"
  }
 },
 "nbformat": 4,
 "nbformat_minor": 2
}
