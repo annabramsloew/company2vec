{
 "cells": [
  {
   "cell_type": "code",
   "execution_count": 1,
   "metadata": {},
   "outputs": [
    {
     "name": "stderr",
     "output_type": "stream",
     "text": [
      "/Users/nikolaibeckjensen/Company2Vec/myenv2/lib/python3.9/site-packages/tqdm/auto.py:21: TqdmWarning: IProgress not found. Please update jupyter and ipywidgets. See https://ipywidgets.readthedocs.io/en/stable/user_install.html\n",
      "  from .autonotebook import tqdm as notebook_tqdm\n"
     ]
    }
   ],
   "source": [
    "import os, sys\n",
    "currentdir = os.path.dirname(os.path.realpath(\"__file__\"))\n",
    "parentdir = os.path.dirname(os.path.dirname(os.path.dirname(os.path.realpath(\"__file__\"))))\n",
    "sys.path.append(parentdir)\n",
    "\n",
    "from joblib import Parallel, delayed\n",
    "import numpy as np\n",
    "import pickle \n",
    "import pandas as pd\n",
    "import torch\n",
    "import matplotlib.pyplot as plt\n",
    "import torchmetrics\n",
    "import seaborn as sns\n",
    "import glob\n",
    "import dask.dataframe as dd\n",
    "from tqdm import tqdm\n",
    "from copy import deepcopy\n",
    "from sklearn.metrics import matthews_corrcoef, f1_score, accuracy_score\n",
    "from pathlib import Path\n",
    "\n",
    "from torchmetrics import MatthewsCorrCoef, F1Score, Accuracy, Precision, Recall\n",
    "from sklearn.utils import resample\n",
    "from scipy.stats import median_abs_deviation as mad\n",
    "import time\n",
    "import cmcrameri.cm as cmc\n",
    "import matplotlib.colors as clr\n",
    "from matplotlib.ticker import MultipleLocator, LinearLocator, AutoMinorLocator\n",
    "plt.rcParams[\"grid.linestyle\"] =  \":\"\n",
    "plt.rcParams[\"axes.edgecolor\"] = \"gray\"\n",
    "plt.rcParams[\"axes.linewidth\"] = 0.7\n",
    "\n",
    "plt.rcParams[\"font.family\"] = \"sans-serif\"\n",
    "plt.rcParams[\"font.sans-serif\"] = \"Arial\"\n",
    "#sns.set_context(\"notebook\", font_scale=1.2)\n",
    "#import scienceplots\n",
    "#plt.style.use([\"science\", \"nature\"])\n",
    "\n",
    "\n",
    "if Path.home().name == \"nikolaibeckjensen\":\n",
    "    DATA_ROOT = Path.home() / \"Library\" / \"CloudStorage\" / \"OneDrive-DanmarksTekniskeUniversitet\" / \"Virk2Vec\" / \"data\"\n",
    "elif Path.home().name == \"annabramslow\":\n",
    "    DATA_ROOT = Path.home() / \"Library\" / \"CloudStorage\" / \"OneDrive-DanmarksTekniskeUniversitet(2)\" / \"Virk2Vec\" / \"data\""
   ]
  },
  {
   "attachments": {},
   "cell_type": "markdown",
   "metadata": {},
   "source": [
    "#### Description\n",
    "This notebook is used to evaluate the *Mortality* model + breakdown of performance metric by groups."
   ]
  },
  {
   "cell_type": "code",
   "execution_count": 2,
   "metadata": {},
   "outputs": [
    {
     "data": {
      "image/png": "[encoded data removed]",
      "text/html": [
       "<div style=\"vertical-align: middle;\"><strong>batlowS</strong> </div><div class=\"cmap\"><img alt=\"batlowS colormap\" title=\"batlowS\" style=\"border: 1px solid #555;\" src=\"data:image/png;base64,iVBORw0KGgoAAAANSUhEUgAAAgAAAABACAYAAABsv8+/AAAAFnRFWHRUaXRsZQBiYXRsb3dTIGNvbG9ybWFwdnAoIwAAABx0RVh0RGVzY3JpcHRpb24AYmF0bG93UyBjb2xvcm1hcNFemVoAAAAwdEVYdEF1dGhvcgBNYXRwbG90bGliIHYzLjYuMCwgaHR0cHM6Ly9tYXRwbG90bGliLm9yZ+GocwIAAAAydEVYdFNvZnR3YXJlAE1hdHBsb3RsaWIgdjMuNi4wLCBodHRwczovL21hdHBsb3RsaWIub3Jnzw7sJQAAA2lJREFUeJzt1suLlXUcx/HfmGM0mpEX1Kaki12I6eJlKsOCCIkKclFkVpYE4SLCwJCCXCRBbsI2QlMLE8KBCFpYthiGIjOMzC7WBNlQEymSUjOSVObM9Ad8/Av6vl7LN4dzDr/nOc/5dHQsWDPZzuKf3Tujbd1zc7QdwzdE++q26dEeHRqJ9snXc6KdeOb+aHuHt0R78OProrXW2tGnN0abPDYQ7da9n0X7/tOp0bavORht39jsaJu6L4jW8+rMaKe23hWttdYm5q+M9v7+fO3CzlnR9v55IlrfT4uj3bPgh2g7Dlwb7cjqi6PN68vr11pri5edinb4eJ7FyLonoq0dfDHatsvnRXvu5yPRjv6dZ/vesluiTZmW59Vaa/Pf2h9t/ZJD0U6emRbt4bn5ft2dF0Wbfd6l0a7Y83u0N5d/GW10/N/8kNbak28viXZOV0e0O3t/i9b/QH+0ntc3RNt41YFoz3/YG+34hkeiXbZrV7TWWnvqmi+iPduzOdrErKXROk7nmS19Z1u0oQ/yUdY5Y0q0G+84He2Nq0ejtdbavHPzt7D6uz+iffvrhdHOnzkR7bXr8x4bGM3veOjkgmi7b38o2rvDL0drrbWxM/nZj/fmtenpfyXawRV5L4+P/xVt7dDhaCvn5HNiU38+iyZOn/Vvp7209ptoGxatjzbZvSra3M0vRNt+d97L+8byWvXtvCRa76o8wx9HuqK11tqxdSui3TQ4GG3LoqFojw3k+Xx07y/R7vt8YbR9y/O6dE3NZ+OM6VdGa621vPMAgP89AwAACjIAAKAgAwAACjIAAKAgAwAACjIAAKAgAwAACjIAAKAgAwAACjIAAKAgAwAACjIAAKAgAwAACjIAAKAgAwAACjIAAKAgAwAACjIAAKAgAwAACjIAAKAgAwAACjIAAKAgAwAACjIAAKAgAwAACjIAAKAgAwAACjIAAKAgAwAACjIAAKAgAwAACjIAAKAgAwAACjIAAKAgAwAACjIAAKAgAwAACjIAAKAgAwAACjIAAKAgAwAACjIAAKAgAwAACjIAAKAgAwAACjIAAKAgAwAACjIAAKAgAwAACjIAAKAgAwAACjIAAKAgAwAACjIAAKAgAwAACjIAAKAgAwAACjIAAKAgAwAACjIAAKAgAwAACjIAAKCg/wBqcpWrcNIAqQAAAABJRU5ErkJggg==\"></div><div style=\"vertical-align: middle; max-width: 514px; display: flex; justify-content: space-between;\"><div style=\"float: left;\"><div title=\"#011959ff\" style=\"display: inline-block; width: 1em; height: 1em; margin: 0; vertical-align: middle; border: 1px solid #555; background-color: #011959ff;\"></div> under</div><div style=\"margin: 0 auto; display: inline-block;\">bad <div title=\"#00000000\" style=\"display: inline-block; width: 1em; height: 1em; margin: 0; vertical-align: middle; border: 1px solid #555; background-color: #00000000;\"></div></div><div style=\"float: right;\">over <div title=\"#fba68cff\" style=\"display: inline-block; width: 1em; height: 1em; margin: 0; vertical-align: middle; border: 1px solid #555; background-color: #fba68cff;\"></div></div>"
      ],
      "text/plain": [
       "<matplotlib.colors.ListedColormap at 0x134be2e80>"
      ]
     },
     "execution_count": 2,
     "metadata": {},
     "output_type": "execute_result"
    }
   ],
   "source": [
    "cmap = cmc.batlowS\n",
    "cmap"
   ]
  },
  {
   "cell_type": "code",
   "execution_count": 3,
   "metadata": {},
   "outputs": [],
   "source": [
    "v = \"4.02\"\n",
    "#v= \"6.3\"\n",
    "save_path = r\"../analysis/plots/%s/\" %v"
   ]
  },
  {
   "cell_type": "code",
   "execution_count": 33,
   "metadata": {
    "tags": []
   },
   "outputs": [],
   "source": [
    "def load_stats(path):\n",
    "    data = {}\n",
    "    with open(path + \"prb.npy\", \"rb\") as f:\n",
    "        data[\"prb\"] = np.load(f).astype(np.float32)\n",
    "        #if data[\"prb\"].shape[1] > 1:\n",
    "        #    data[\"prb\"] = data[\"prb\"][:, 1]\n",
    "    with open(path + \"trg.npy\", \"rb\") as f:\n",
    "        data[\"trg\"] = np.load(f)\n",
    "    #with open(path + \"id.npy\", \"rb\") as f:\n",
    "    #    data[\"id\"] = np.load(f)\n",
    "    return data\n",
    "def metrics_parallel(metrics, preds, targs):\n",
    "    return metrics(preds, targs).numpy()\n",
    "\n",
    "def return_auc(preds, targs):\n",
    "    metric = torchmetrics.AUROC(num_classes=2)\n",
    "    return metric(preds, targs).numpy().item()\n",
    "\n",
    "def return_mcc(preds, targs):\n",
    "    metric = MatthewsCorrCoef(num_classes=2)\n",
    "    return metric(preds, targs).numpy().item()\n",
    "\n",
    "def return_acc(preds, targs):\n",
    "    metric = Accuracy(num_classes=2, average=\"macro\", multiclass=True)\n",
    "    return metric(preds, targs).numpy().item()\n",
    "\n",
    "def return_f1(preds, targs):\n",
    "    metric = F1Score(num_classes=2, task='binary')\n",
    "    return metric(preds, targs).numpy().item()\n",
    "\n",
    "def return_precision(preds, targs):\n",
    "    metric = Precision(num_classes=2, task='binary')\n",
    "    return metric(preds, targs).numpy().item()\n",
    "\n",
    "def return_recall(preds, targs):\n",
    "    metric = Recall(num_classes=2, task='binary')\n",
    "    return metric(preds, targs).numpy().item()\n",
    "\n",
    "def bootstrap_mcc(preds, targs, seed: int = 2021, n_bootstraps: int = 1000, ci: float = 0.05):\n",
    "    ids = np.arange(0, targs.shape[0], 1)\n",
    "    metric = MatthewsCorrCoef(num_classes=2,threshold=0.505)\n",
    "    idx = list()\n",
    "\n",
    "    for n in range(n_bootstraps):\n",
    "        i  = resample(ids, stratify=targs.numpy(), random_state=n)\n",
    "        if len(np.unique(targs[i])) < 2:\n",
    "                continue\n",
    "        idx.append(i)\n",
    "\n",
    "    scores = []\n",
    "    for i in idx:\n",
    "        score = metric(preds[i], targs[i])\n",
    "        scores.append(score)\n",
    "    scores = np.array(scores)\n",
    "    \n",
    "    return {\"mean\": metric(preds, targs).numpy().item(), \"lower\": np.quantile(scores, ci /2), \"upper\": np.quantile(scores, 1-ci/2)}\n",
    "\n",
    "def bootstrap_precision(preds, targs, seed: int = 2021, n_bootstraps: int = 1000, ci: float = 0.05):\n",
    "    ids = np.arange(0, targs.shape[0], 1)\n",
    "    metric = Precision(task='binary')\n",
    "    idx = list()\n",
    "\n",
    "    for n in range(n_bootstraps):\n",
    "        i  = resample(ids, stratify=targs.numpy(), random_state=n)\n",
    "        if len(np.unique(targs[i])) < 2:\n",
    "                continue\n",
    "        idx.append(i)\n",
    "\n",
    "    scores = []\n",
    "    for i in idx:\n",
    "        score = metric(preds[i], targs[i])\n",
    "        scores.append(score)\n",
    "    scores = np.array(scores)\n",
    "    \n",
    "    return {\"mean\": metric(preds, targs).numpy().item(), \"lower\": np.quantile(scores, ci /2), \"upper\": np.quantile(scores, 1-ci/2)}\n",
    "\n",
    "\n",
    "def bootstrap_recall(preds, targs, seed: int = 2021, n_bootstraps: int = 1000, ci: float = 0.05):\n",
    "    ids = np.arange(0, targs.shape[0], 1)\n",
    "    metric = Recall(task='binary')\n",
    "    idx = list()\n",
    "\n",
    "    for n in range(n_bootstraps):\n",
    "        i  = resample(ids, stratify=targs.numpy(), random_state=n)\n",
    "        if len(np.unique(targs[i])) < 2:\n",
    "                continue\n",
    "        idx.append(i)\n",
    "\n",
    "    scores = []\n",
    "    for i in idx:\n",
    "        score = metric(preds[i], targs[i])\n",
    "        scores.append(score)\n",
    "    scores = np.array(scores)\n",
    "    \n",
    "    return {\"mean\": metric(preds, targs).numpy().item(), \"lower\": np.quantile(scores, ci /2), \"upper\": np.quantile(scores, 1-ci/2)}\n",
    "\n",
    "\n",
    "def bootstrap_f1(preds, targs, seed: int = 2021, n_bootstraps: int = 1000, ci: float = 0.05):\n",
    "    ids = np.arange(0, targs.shape[0], 1)\n",
    "    metric = F1Score(num_classes=2, task='binary')\n",
    "    idx = list()\n",
    "\n",
    "    for n in range(n_bootstraps):\n",
    "        i  = resample(ids, stratify=targs.numpy(), random_state=n)\n",
    "        if len(np.unique(targs[i])) < 2:\n",
    "                continue\n",
    "        idx.append(i)\n",
    "\n",
    "    scores = []\n",
    "    for i in idx:\n",
    "        score = metric(preds[i], targs[i])\n",
    "        scores.append(score)\n",
    "    scores = np.array(scores)\n",
    "    \n",
    "    return {\"mean\": metric(preds, targs).numpy().item(), \"lower\": np.quantile(scores, ci /2), \"upper\": np.quantile(scores, 1-ci/2)}\n",
    "\n",
    "def bootstrap_acc(preds, targs, seed: int = 2021, n_bootstraps: int = 1000, ci: float = 0.05):\n",
    "    ids = np.arange(0, targs.shape[0], 1)\n",
    "    metric = Accuracy(task='binary')\n",
    "    idx = list()\n",
    "\n",
    "    for n in range(n_bootstraps):\n",
    "        i  = resample(ids, stratify=targs.numpy(), random_state=n)\n",
    "        if len(np.unique(targs[i])) < 2:\n",
    "                continue\n",
    "        idx.append(i)\n",
    "\n",
    "    scores = []\n",
    "    for i in idx:\n",
    "        score = metric(preds[i], targs[i])\n",
    "        scores.append(score)\n",
    "    scores = np.array(scores)\n",
    "    \n",
    "    return {\"mean\": metric(preds, targs).numpy().item(), \"lower\": np.quantile(scores, ci /2), \"upper\": np.quantile(scores, 1-ci/2)}\n",
    "\n",
    "def return_stats(path: str):\n",
    "    x  = load_stats(path)\n",
    "    start = time.time()\n",
    "    x[\"auc\"] = return_auc(preds = torch.from_numpy(x[\"prb\"]),  \n",
    "              targs = torch.from_numpy(x[\"trg\"]).long()) \n",
    "\n",
    "    print(\"AUC is done: %.2f s\" %(time.time()-start))\n",
    "    print(x[\"auc\"])\n",
    "    start = time.time()\n",
    "    x[\"mcc\"] = bootstrap_mcc(preds = torch.from_numpy(x[\"prb\"]),  \n",
    "              targs = torch.from_numpy(x[\"trg\"]).long(), \n",
    "              n_bootstraps=1000)\n",
    "    print(\"MCC is done: %.2f s\" %(time.time()-start))\n",
    "    print(x[\"mcc\"])\n",
    "\n",
    "    start = time.time()\n",
    "    x[\"acc\"] = bootstrap_acc(preds = torch.from_numpy(x[\"prb\"]),  \n",
    "              targs = torch.from_numpy(x[\"trg\"]).long(), \n",
    "              n_bootstraps=1000)\n",
    "    print(\"ACC is done: %.2f s\" %(time.time()-start))\n",
    "    print(x[\"acc\"])\n",
    "\n",
    "    start = time.time()\n",
    "    \n",
    "    x[\"f1\"] = bootstrap_f1(preds = torch.from_numpy(x[\"prb\"]),  \n",
    "              targs = torch.from_numpy(x[\"trg\"]).long(), \n",
    "              n_bootstraps=1000)\n",
    "    print(\"F1 is done: %.2f s\" %(time.time()-start))\n",
    "    print(x[\"f1\"])\n",
    "\n",
    "    start = time.time()\n",
    "    x[\"precision\"] = bootstrap_precision(preds = torch.from_numpy(x[\"prb\"]),  \n",
    "              targs = torch.from_numpy(x[\"trg\"]).long(), \n",
    "              n_bootstraps=1000)\n",
    "    print(\"Precision is done: %.2f s\" %(time.time()-start))\n",
    "    print(x[\"precision\"])\n",
    "\n",
    "    start = time.time()\n",
    "\n",
    "    x[\"recall\"] = bootstrap_recall(preds = torch.from_numpy(x[\"prb\"]),  \n",
    "              targs = torch.from_numpy(x[\"trg\"]).long(), \n",
    "              n_bootstraps=1000)\n",
    "    print(\"Recall is done: %.2f s\" %(time.time()-start))\n",
    "    print(x[\"recall\"])\n",
    "\n",
    "    return x\n",
    "\n",
    "def contains_in_sequence(sample, min_, max_):\n",
    "    \"\"\"Checks if sequence contains tokens in range [min_, max_]\"\"\"\n",
    "    return np.where((sample >= min_) & (sample <=max_))[0].shape[0] > 0"
   ]
  },
  {
   "cell_type": "code",
   "execution_count": 46,
   "metadata": {},
   "outputs": [],
   "source": [
    "c2v = r\"/Users/nikolaibeckjensen/Library/CloudStorage/OneDrive-DanmarksTekniskeUniversitet/Virk2Vec/predictions/bankruptcy/c2v-unfreezed/\"\n",
    "dummy_path = r\"/Users/nikolaibeckjensen/Library/CloudStorage/OneDrive-DanmarksTekniskeUniversitet/Virk2Vec/predictions/moving/dummy/\"\n",
    "rnn = r\"/Users/nikolaibeckjensen/Library/CloudStorage/OneDrive-DanmarksTekniskeUniversitet/Virk2Vec/predictions/bankruptcy/rnn/\"\n",
    "ffn = r\"/Users/nikolaibeckjensen/Library/CloudStorage/OneDrive-DanmarksTekniskeUniversitet/Virk2Vec/predictions/moving/ffn/\"\n",
    "logreg = r\"/Users/nikolaibeckjensen/Library/CloudStorage/OneDrive-DanmarksTekniskeUniversitet/Virk2Vec/predictions/moving/logreg/\""
   ]
  },
  {
   "cell_type": "code",
   "execution_count": 43,
   "metadata": {},
   "outputs": [
    {
     "name": "stderr",
     "output_type": "stream",
     "text": [
      "/Users/nikolaibeckjensen/Company2Vec/myenv2/lib/python3.9/site-packages/torchmetrics/utilities/prints.py:36: UserWarning: Metric `AUROC` will save all targets and predictions in buffer. For large datasets this may lead to large memory footprint.\n",
      "  warnings.warn(*args, **kwargs)\n"
     ]
    },
    {
     "name": "stdout",
     "output_type": "stream",
     "text": [
      "AUC is done: 0.17 s\n",
      "0.8695427179336548\n",
      "MCC is done: 13.18 s\n",
      "{'mean': 0.24997107684612274, 'lower': 0.24196781925857067, 'upper': 0.2581060156226158}\n",
      "ACC is done: 13.41 s\n",
      "{'mean': 0.7702577710151672, 'lower': 0.766745388507843, 'upper': 0.7740597993135452}\n",
      "F1 is done: 13.71 s\n",
      "{'mean': 0.20668132603168488, 'lower': 0.20204561948776245, 'upper': 0.21167949624359608}\n",
      "Precision is done: 13.85 s\n",
      "{'mean': 0.11861923336982727, 'lower': 0.1159018874168396, 'upper': 0.12165397945791483}\n",
      "Recall is done: 13.50 s\n",
      "{'mean': 0.8023127913475037, 'lower': 0.7846916317939758, 'upper': 0.8204845786094666}\n"
     ]
    }
   ],
   "source": [
    "data = return_stats(c2v)\n"
   ]
  },
  {
   "cell_type": "code",
   "execution_count": 39,
   "metadata": {},
   "outputs": [
    {
     "data": {
      "text/plain": [
       "(array([0, 1, 2]), array([  97,    7, 9145]))"
      ]
     },
     "execution_count": 39,
     "metadata": {},
     "output_type": "execute_result"
    }
   ],
   "source": [
    "# compute value counts\n",
    "values = data['prb'].argmax(axis=1)\n",
    "value_counts = np.unique(values, return_counts=True)\n",
    "value_counts"
   ]
  },
  {
   "cell_type": "code",
   "execution_count": 34,
   "metadata": {},
   "outputs": [
    {
     "name": "stderr",
     "output_type": "stream",
     "text": [
      "/Users/nikolaibeckjensen/Company2Vec/myenv2/lib/python3.9/site-packages/torchmetrics/utilities/prints.py:36: UserWarning: Metric `AUROC` will save all targets and predictions in buffer. For large datasets this may lead to large memory footprint.\n",
      "  warnings.warn(*args, **kwargs)\n"
     ]
    },
    {
     "name": "stdout",
     "output_type": "stream",
     "text": [
      "AUC is done: 0.00 s\n",
      "0.6192628145217896\n",
      "MCC is done: 4.53 s\n",
      "{'mean': 0.0, 'lower': 0.0, 'upper': 0.0}\n",
      "ACC is done: 4.74 s\n",
      "{'mean': 0.7630887627601624, 'lower': 0.7630887627601624, 'upper': 0.7630887627601624}\n",
      "F1 is done: 4.78 s\n",
      "{'mean': 0.0, 'lower': 0.0, 'upper': 0.0}\n",
      "Precision is done: 4.91 s\n",
      "{'mean': 0.0, 'lower': 0.0, 'upper': 0.0}\n",
      "Recall is done: 4.81 s\n",
      "{'mean': 0.0, 'lower': 0.0, 'upper': 0.0}\n"
     ]
    }
   ],
   "source": [
    "data = return_stats(logreg)"
   ]
  },
  {
   "cell_type": "code",
   "execution_count": 25,
   "metadata": {},
   "outputs": [
    {
     "name": "stderr",
     "output_type": "stream",
     "text": [
      "/Users/nikolaibeckjensen/Company2Vec/myenv2/lib/python3.9/site-packages/torchmetrics/utilities/prints.py:36: UserWarning: Metric `AUROC` will save all targets and predictions in buffer. For large datasets this may lead to large memory footprint.\n",
      "  warnings.warn(*args, **kwargs)\n"
     ]
    },
    {
     "name": "stdout",
     "output_type": "stream",
     "text": [
      "AUC is done: 0.01 s\n",
      "0.6214401721954346\n",
      "MCC is done: 4.77 s\n",
      "{'mean': 0.15615592896938324, 'lower': 0.13915206380188466, 'upper': 0.1720194485038519}\n",
      "ACC is done: 4.81 s\n",
      "{'mean': 0.5945017337799072, 'lower': 0.5855400562286377, 'upper': 0.6025200486183167}\n",
      "F1 is done: 4.78 s\n",
      "{'mean': 0.4032130241394043, 'lower': 0.39297839626669884, 'upper': 0.4130460977554321}\n",
      "Precision is done: 4.84 s\n",
      "{'mean': 0.3095310628414154, 'lower': 0.30125820487737653, 'upper': 0.3169258743524551}\n",
      "Recall is done: 4.98 s\n",
      "{'mean': 0.5782138705253601, 'lower': 0.5614334344863892, 'upper': 0.593586479127407}\n"
     ]
    }
   ],
   "source": [
    "data = return_stats(ffn)"
   ]
  },
  {
   "cell_type": "code",
   "execution_count": 17,
   "metadata": {},
   "outputs": [],
   "source": [
    "with open(ffn + \"prb.npy\", \"rb\") as f:\n",
    "    data[\"prb\"] = np.load(f)"
   ]
  },
  {
   "cell_type": "code",
   "execution_count": 19,
   "metadata": {},
   "outputs": [
    {
     "data": {
      "text/plain": [
       "array([0.55954313, 0.48279062, 0.5071714 , ..., 0.35092944, 0.4901118 ,\n",
       "       0.36437646], dtype=float32)"
      ]
     },
     "execution_count": 19,
     "metadata": {},
     "output_type": "execute_result"
    }
   ],
   "source": [
    "data['prb'][:,1]"
   ]
  },
  {
   "cell_type": "code",
   "execution_count": 47,
   "metadata": {},
   "outputs": [
    {
     "data": {
      "image/png": "[encoded data removed]",
      "text/plain": [
       "<Figure size 640x480 with 1 Axes>"
      ]
     },
     "metadata": {},
     "output_type": "display_data"
    }
   ],
   "source": [
    "# plot precision recall curve\n",
    "data = load_stats(rnn)\n",
    "from sklearn.metrics import precision_recall_curve\n",
    "from sklearn.metrics import average_precision_score\n",
    "precision, recall, _ = precision_recall_curve(data[\"trg\"], data[\"prb\"])\n",
    "average_precision = average_precision_score(data[\"trg\"], data[\"prb\"])\n",
    "\n",
    "plt.figure()\n",
    "lw = 2\n",
    "plt.plot(recall, precision, color='darkorange',\n",
    "         lw=lw, label='PR curve (area = %0.2f)' % average_precision)\n",
    "plt.xlim([0.0, 1.0])\n",
    "plt.ylim([0.0, 1.05])\n",
    "plt.xlabel('Precision')\n",
    "plt.ylabel('Recall')\n",
    "plt.title('Precision-Recall curve')\n",
    "plt.legend(loc=\"lower right\")\n",
    "\n",
    "# Calculate F1 score at different points on the curve\n",
    "f1_scores = 2 * (precision * recall) / (precision + recall)\n",
    "best_index = np.argmax(f1_scores)\n",
    "best_f1 = f1_scores[best_index]\n",
    "\n",
    "plt.plot(recall[best_index], precision[best_index], 'ro', label='Best F1 (F1 = %0.2f)' % best_f1)\n",
    "plt.legend(loc=\"lower right\")\n",
    "plt.show()\n"
   ]
  },
  {
   "cell_type": "code",
   "execution_count": 45,
   "metadata": {},
   "outputs": [
    {
     "data": {
      "image/png": "[encoded data removed]",
      "text/plain": [
       "<Figure size 640x480 with 1 Axes>"
      ]
     },
     "metadata": {},
     "output_type": "display_data"
    }
   ],
   "source": [
    "plt.hist(data['prb'], bins=1000)\n",
    "plt.xlim(0,1)\n",
    "plt.show()"
   ]
  },
  {
   "cell_type": "code",
   "execution_count": null,
   "metadata": {},
   "outputs": [
    {
     "data": {
      "text/plain": [
       "48685"
      ]
     },
     "execution_count": 52,
     "metadata": {},
     "output_type": "execute_result"
    }
   ],
   "source": [
    "len(data['prb'])\n"
   ]
  },
  {
   "cell_type": "code",
   "execution_count": 113,
   "metadata": {},
   "outputs": [],
   "source": [
    "data = {}"
   ]
  },
  {
   "cell_type": "code",
   "execution_count": 114,
   "metadata": {},
   "outputs": [
    {
     "name": "stderr",
     "output_type": "stream",
     "text": [
      "/Users/nikolaibeckjensen/Company2Vec/myenv2/lib/python3.9/site-packages/torchmetrics/utilities/prints.py:36: UserWarning: Metric `AUROC` will save all targets and predictions in buffer. For large datasets this may lead to large memory footprint.\n",
      "  warnings.warn(*args, **kwargs)\n"
     ]
    },
    {
     "name": "stdout",
     "output_type": "stream",
     "text": [
      "AUC is done: 0.26 s\n",
      "0.5666110515594482\n",
      "MCC is done: 14.17 s\n",
      "{'mean': 0.08362317085266113, 'lower': 0.07436136212199926, 'upper': 0.09169389866292477}\n",
      "ACC is done: 14.51 s\n",
      "{'mean': 0.48138031363487244, 'lower': 0.4765934206545353, 'upper': 0.4855099156498909}\n",
      "F1 is done: 14.33 s\n",
      "{'mean': 0.3605743646621704, 'lower': 0.3558559164404869, 'upper': 0.3647651940584183}\n",
      "Precision is done: 14.42 s\n",
      "{'mean': 0.24682754278182983, 'lower': 0.24356957972049714, 'upper': 0.24960128478705884}\n",
      "Recall is done: 14.36 s\n",
      "{'mean': 0.6687646508216858, 'lower': 0.6590887904167175, 'upper': 0.6776890754699707}\n"
     ]
    }
   ],
   "source": [
    "data[\"c2v\"] = return_stats(moving_c2v)"
   ]
  },
  {
   "cell_type": "code",
   "execution_count": null,
   "metadata": {},
   "outputs": [],
   "source": [
    "simple_baselines = True\n",
    "if simple_baselines:\n",
    "    np.random.seed(0)\n",
    "    data[\"rnd\"] = {\"prb\": np.random.uniform(size=data[\"rnn\"][\"trg\"].shape[0]),\n",
    "               \"trg\": data[\"rnn\"][\"trg\"]}\n",
    "    data[\"rnd\"][\"aul\"] = return_aul(preds = data[\"rnd\"][\"prb\"],  \n",
    "                               targs = data[\"rnd\"][\"trg\"])\n",
    "    data[\"rnd\"][\"mcc\"] = bootstrap_mcc(preds = torch.from_numpy(data[\"rnd\"][\"prb\"]),  \n",
    "              targs = torch.from_numpy(data[\"rnd\"][\"trg\"]).long(), \n",
    "              n_bootstraps=1000,\n",
    "              alpha = 0.025,\n",
    "              beta=1.0)\n",
    "    data[\"rnd\"][\"acc\"] = bootstrap_acc(preds = torch.from_numpy(data[\"rnd\"][\"prb\"]),  \n",
    "              targs = torch.from_numpy(data[\"rnd\"][\"trg\"]).long(), \n",
    "              n_bootstraps=1000,\n",
    "              alpha = 0.025,\n",
    "              beta=1.0)\n",
    "    data[\"rnd\"][\"f1\"] = bootstrap_f1(preds = torch.from_numpy(data[\"rnd\"][\"prb\"]),  \n",
    "              targs = torch.from_numpy(data[\"rnd\"][\"trg\"]).long(), \n",
    "              n_bootstraps=1000,\n",
    "              alpha = 0.025,\n",
    "              beta=1.0)\n"
   ]
  },
  {
   "cell_type": "code",
   "execution_count": null,
   "metadata": {},
   "outputs": [],
   "source": [
    "np.random.seed(0)\n",
    "data[\"mjr\"] = {\"prb\": np.random.uniform(high=0.5, size=data[\"rnn\"][\"trg\"].shape[0]),\n",
    "               \"trg\": data[\"rnn\"][\"trg\"]}\n",
    "data[\"mjr\"][\"aul\"] = return_aul(preds = data[\"mjr\"][\"prb\"],  \n",
    "                               targs = data[\"mjr\"][\"trg\"])\n",
    "data[\"mjr\"][\"mcc\"] = {\"mean\": return_mcc(preds = torch.from_numpy(data[\"mjr\"][\"prb\"]),  \n",
    "                               targs = torch.from_numpy(data[\"mjr\"][\"trg\"]).long()), \"lower\": np.nan, \"upper\": np.nan}\n",
    "data[\"mjr\"][\"acc\"] = {\"mean\": return_acc(preds = torch.from_numpy(data[\"mjr\"][\"prb\"]),  \n",
    "                               targs = torch.from_numpy(data[\"mjr\"][\"trg\"]).long()), \"lower\": np.nan, \"upper\": np.nan}\n",
    "data[\"mjr\"][\"f1\"] = {\"mean\": return_f1(preds = torch.from_numpy(data[\"mjr\"][\"prb\"]),  \n",
    "                               targs = torch.from_numpy(data[\"mjr\"][\"trg\"]).long()), \"lower\": np.nan, \"upper\": np.nan}"
   ]
  },
  {
   "cell_type": "code",
   "execution_count": null,
   "metadata": {},
   "outputs": [],
   "source": [
    "try:\n",
    "    raise Error() \n",
    "    with open(save_path + \"metric.pkl\", \"wb\") as f:\n",
    "        pickle.dump(data,f)\n",
    "except:\n",
    "    with open(save_path + \"metric.pkl\", \"rb\") as f:\n",
    "        data = pickle.load(f)"
   ]
  },
  {
   "cell_type": "code",
   "execution_count": null,
   "metadata": {},
   "outputs": [],
   "source": [
    "print(\"AUL\")\n",
    "for key in data.keys():\n",
    "    print(\"\\t%s: %.3f [%.3f, %.3f]\" %(key, data[key][\"aul\"][\"mean\"], \n",
    "                                           data[key][\"aul\"][\"lower\"], \n",
    "                                           data[key][\"aul\"][\"upper\"]))\n",
    "print(\"MCC\")\n",
    "for key in data.keys():\n",
    "    print(\"\\t%s: %.3f [%.3f, %.3f]\" %(key, data[key][\"mcc\"][\"mean\"], \n",
    "                                           data[key][\"mcc\"][\"lower\"], \n",
    "                                           data[key][\"mcc\"][\"upper\"]))\n",
    "print(\"ACC\")\n",
    "for key in data.keys():\n",
    "    print(\"\\t%s: %.3f [%.3f, %.3f]\" %(key, data[key][\"acc\"][\"mean\"], \n",
    "                                           data[key][\"acc\"][\"lower\"], \n",
    "                                           data[key][\"acc\"][\"upper\"]))\n",
    "print(\"F1\")\n",
    "for key in data.keys():\n",
    "    print(\"\\t%s: %.3f [%.3f, %.3f]\" %(key, data[key][\"f1\"][\"mean\"], \n",
    "                                           data[key][\"f1\"][\"lower\"], \n",
    "                                           data[key][\"f1\"][\"upper\"]))"
   ]
  },
  {
   "attachments": {},
   "cell_type": "markdown",
   "metadata": {},
   "source": [
    "## 1. Breakdown by subsets"
   ]
  },
  {
   "cell_type": "code",
   "execution_count": 115,
   "metadata": {},
   "outputs": [],
   "source": [
    "def get_employee_counts(test_cvrs, _period_start='2022-01-01' ) -> list:\n",
    "    \"\"\" Returns a list of CVRs that satisfy the employee filter \"\"\"\n",
    "    _period_start = pd.to_datetime(_period_start)\n",
    "\n",
    "    # get the financials data \n",
    "    employee_path = DATA_ROOT / \"Tables\" / \"EmployeeCounts\"\n",
    "    employees_csv = [file for file in employee_path.iterdir() if file.is_file() and file.suffix == '.csv']\n",
    "    df_employees = dd.read_csv(\n",
    "        employees_csv,\n",
    "        usecols=['CVR', 'FromDate', 'EmployeeCounts'],\n",
    "        on_bad_lines=\"error\",\n",
    "        assume_missing=True,\n",
    "        dtype={\n",
    "                \"CVR\": int,\n",
    "                \"FromDate\": str,\n",
    "                \"EmployeeCounts\": float,\n",
    "            },\n",
    "        blocksize=\"256MB\"\n",
    "    ).compute()\n",
    "\n",
    "    # apply filters on the annual reports in the year up until the cutoff date, take the most recent employee entry\n",
    "    df_employees['FromDate'] = pd.to_datetime(df_employees['FromDate'], errors='coerce')\n",
    "    df_employees = df_employees.loc[(df_employees.FromDate < _period_start) & (df_employees.FromDate >= _period_start - pd.DateOffset(years=1))]\n",
    "    df_employees = df_employees.sort_values(by=['CVR', 'FromDate'], ascending=False).drop_duplicates(subset='CVR', keep='first')\n",
    "    \n",
    "    df = pd.DataFrame({'CVR': test_cvrs})\n",
    "    df = df.merge(df_employees, on='CVR', how='left').fillna(0)\n",
    "\n",
    "    return df.drop(columns=['FromDate']).set_index(\"CVR\")\n",
    "\n",
    "def discrete_employee(x):\n",
    "    if x == 0:\n",
    "        return \"[0]\"\n",
    "    elif x <= 1:\n",
    "        return \"]0, 1]\"\n",
    "    elif x <= 10:\n",
    "        return \"]1, 10]\"\n",
    "    else:\n",
    "        return \">10\"\n",
    "    "
   ]
  },
  {
   "cell_type": "code",
   "execution_count": 116,
   "metadata": {},
   "outputs": [],
   "source": [
    "counts = get_employee_counts(test_cvrs=data['c2v']['id'], _period_start='2022-01-01' ) "
   ]
  },
  {
   "cell_type": "code",
   "execution_count": 117,
   "metadata": {},
   "outputs": [
    {
     "ename": "KeyError",
     "evalue": "'id'",
     "output_type": "error",
     "traceback": [
      "\u001b[0;31m---------------------------------------------------------------------------\u001b[0m",
      "\u001b[0;31mKeyError\u001b[0m                                  Traceback (most recent call last)",
      "Cell \u001b[0;32mIn[117], line 5\u001b[0m\n\u001b[1;32m      2\u001b[0m df \u001b[38;5;241m=\u001b[39m pd\u001b[38;5;241m.\u001b[39mread_pickle(data_split)\n\u001b[1;32m      4\u001b[0m idx_test \u001b[38;5;241m=\u001b[39m df\u001b[38;5;241m.\u001b[39mtest\n\u001b[0;32m----> 5\u001b[0m idx_preds \u001b[38;5;241m=\u001b[39m \u001b[43mdata\u001b[49m\u001b[43m[\u001b[49m\u001b[38;5;124;43m'\u001b[39;49m\u001b[38;5;124;43mid\u001b[39;49m\u001b[38;5;124;43m'\u001b[39;49m\u001b[43m]\u001b[49m\n\u001b[1;32m      7\u001b[0m \u001b[38;5;28mprint\u001b[39m(\u001b[38;5;124m\"\u001b[39m\u001b[38;5;124mLength of test set: \u001b[39m\u001b[38;5;132;01m%i\u001b[39;00m\u001b[38;5;124m\"\u001b[39m \u001b[38;5;241m%\u001b[39m\u001b[38;5;28mlen\u001b[39m(idx_test))\n\u001b[1;32m      8\u001b[0m \u001b[38;5;28mprint\u001b[39m(\u001b[38;5;124m\"\u001b[39m\u001b[38;5;124mLength of prediction set: \u001b[39m\u001b[38;5;132;01m%i\u001b[39;00m\u001b[38;5;124m\"\u001b[39m \u001b[38;5;241m%\u001b[39m\u001b[38;5;28mlen\u001b[39m(idx_preds))\n",
      "\u001b[0;31mKeyError\u001b[0m: 'id'"
     ]
    }
   ],
   "source": [
    "data_split = r'/Users/nikolaibeckjensen/Library/CloudStorage/OneDrive-DanmarksTekniskeUniversitet/Virk2Vec/data/processed/populations/bankruptcy/data_split/result.pkl'\n",
    "df = pd.read_pickle(data_split)\n",
    "\n",
    "idx_test = df.test\n",
    "idx_preds = data['id']\n",
    "\n",
    "print(\"Length of test set: %i\" %len(idx_test))\n",
    "print(\"Length of prediction set: %i\" %len(idx_preds))\n",
    "\n",
    "# how many of the predictions are in the test set\n",
    "print(len(set(idx_test).intersection(set(idx_preds)))/len(idx_preds))\n",
    "\n",
    "_sum = 0\n",
    "for cvr in idx_test:\n",
    "    if cvr in idx_preds:\n",
    "        _sum += 1\n",
    "print(\"share of test set in predictions: %.2f\" %(_sum/len(idx_test)))\n",
    "\n",
    "i = 0\n",
    "# print 10 CVRS that are not in the test set\n",
    "for idx, cvr in enumerate(idx_preds):\n",
    "    i += 1\n",
    "    if cvr not in idx_test and i > 39990:\n",
    "        print(cvr, idx_test[idx])\n",
    "        \n",
    "    if i == 40000:\n",
    "        break\n",
    "        \n"
   ]
  },
  {
   "cell_type": "code",
   "execution_count": null,
   "metadata": {},
   "outputs": [],
   "source": [
    "# SEQUENCE LENGTH\n",
    "# with open(r\"..\\\\cls\\\\eos_l2v\\\\%s\\\\\" %v + \"seqlen.pkl\", \"rb\") as f:\n",
    "#     counts = pickle.load(f)\n",
    "#     counts = pd.DataFrame.from_dict(counts, orient=\"index\")\n",
    "#     counts.index = counts.index.rename(\"PERSON_ID\")\n",
    "#     counts = counts.rename(columns={0: \"SEQLEN\"})\n",
    "#     counts[\"SEQLEN\"] = counts[\"SEQLEN\"].apply(lambda x: np.minimum(x, 2560))\n",
    "\n",
    "# with open(r\"..\\\\cls\\\\eos_l2v\\\\%s\\\\\" %v + \"has_health.pkl\", \"rb\") as f:\n",
    "#     has_health = pickle.load(f)\n",
    "#     has_health = pd.DataFrame.from_dict(has_health, orient=\"index\")\n",
    "#     has_health.index = has_health.index.rename(\"PERSON_ID\")\n",
    "#     has_health = has_health.rename(columns={0: \"HAS_HEALTH\"})\n",
    "\n"
   ]
  },
  {
   "cell_type": "code",
   "execution_count": 124,
   "metadata": {},
   "outputs": [],
   "source": [
    "population_path = DATA_ROOT / \"processed\" / \"populations\" / \"moving\" / \"population\" / \"result.pkl\"\n",
    "ppl = pd.read_pickle(population_path)\n",
    "result = pd.DataFrame({\"CVR\": data[\"c2v\"][\"id\"].astype(int),\n",
    "                        \"PRED\": data[\"c2v\"][\"prb\"]}).set_index(\"CVR\")\n",
    "result = result.join(ppl, how=\"left\")\n",
    "result = result.join(counts, how=\"left\")\n",
    "\n",
    "# ec_q = np.quantile(result[\"SEQLEN\"].values, [0, 0.33, 0.66, 1.])\n",
    "# result[\"SEQLEN\"] = pd.cut(result[\"SEQLEN\"], bins = ec_q,\n",
    "#                                include_lowest=True, labels=False)\n",
    "result[\"EMPLOYEES\"] = result[\"EmployeeCounts\"].apply(lambda x: discrete_employee(x))\n",
    "#result[\"UNLABELED\"] = result.apply(lambda x: (x[\"TARGET\"] == 0) & (x[\"EVENT_FINAL_DATE\"] < pd.to_datetime(\"2020-12-31\", format=\"%Y-%m-%d\")), axis = 1)\n",
    "#result[\"YEAR\"] = result[\"EVENT_FINAL_DATE\"].dt.year"
   ]
  },
  {
   "cell_type": "code",
   "execution_count": 130,
   "metadata": {},
   "outputs": [],
   "source": [
    "population_path = DATA_ROOT / \"processed\" / \"populations\" / \"moving_min_emp\" / \"population\" / \"result.pkl\"\n",
    "ppl = pd.read_pickle(population_path)"
   ]
  },
  {
   "cell_type": "code",
   "execution_count": 134,
   "metadata": {},
   "outputs": [
    {
     "data": {
      "text/plain": [
       "0    0.76577\n",
       "1    0.23423\n",
       "Name: TARGET, dtype: float64"
      ]
     },
     "execution_count": 134,
     "metadata": {},
     "output_type": "execute_result"
    }
   ],
   "source": [
    "ppl.TARGET.value_counts(normalize=True)"
   ]
  },
  {
   "cell_type": "code",
   "execution_count": 125,
   "metadata": {},
   "outputs": [
    {
     "data": {
      "text/html": [
       "<div>\n",
       "<style scoped>\n",
       "    .dataframe tbody tr th:only-of-type {\n",
       "        vertical-align: middle;\n",
       "    }\n",
       "\n",
       "    .dataframe tbody tr th {\n",
       "        vertical-align: top;\n",
       "    }\n",
       "\n",
       "    .dataframe thead th {\n",
       "        text-align: right;\n",
       "    }\n",
       "</style>\n",
       "<table border=\"1\" class=\"dataframe\">\n",
       "  <thead>\n",
       "    <tr style=\"text-align: right;\">\n",
       "      <th></th>\n",
       "      <th>PRED</th>\n",
       "      <th>FROM_DATE</th>\n",
       "      <th>CURRENT_ASSETS</th>\n",
       "      <th>CASH_AND_CASH_EQUIVALENTS</th>\n",
       "      <th>SHORT_TERM_LIABILITIES</th>\n",
       "      <th>FOUNDING_DATE</th>\n",
       "      <th>TARGET</th>\n",
       "      <th>EmployeeCounts</th>\n",
       "      <th>EMPLOYEES</th>\n",
       "    </tr>\n",
       "    <tr>\n",
       "      <th>CVR</th>\n",
       "      <th></th>\n",
       "      <th></th>\n",
       "      <th></th>\n",
       "      <th></th>\n",
       "      <th></th>\n",
       "      <th></th>\n",
       "      <th></th>\n",
       "      <th></th>\n",
       "      <th></th>\n",
       "    </tr>\n",
       "  </thead>\n",
       "  <tbody>\n",
       "    <tr>\n",
       "      <th>10000459</th>\n",
       "      <td>0.391278</td>\n",
       "      <td>2014-04-15</td>\n",
       "      <td>1676221.0</td>\n",
       "      <td>1382865.0</td>\n",
       "      <td>43367402.0</td>\n",
       "      <td>1999-10-15</td>\n",
       "      <td>1</td>\n",
       "      <td>0.0</td>\n",
       "      <td>[0]</td>\n",
       "    </tr>\n",
       "    <tr>\n",
       "      <th>10001323</th>\n",
       "      <td>0.388885</td>\n",
       "      <td>2017-02-20</td>\n",
       "      <td>1133727.0</td>\n",
       "      <td>256841.0</td>\n",
       "      <td>1057192.0</td>\n",
       "      <td>1999-10-08</td>\n",
       "      <td>0</td>\n",
       "      <td>0.0</td>\n",
       "      <td>[0]</td>\n",
       "    </tr>\n",
       "    <tr>\n",
       "      <th>10002028</th>\n",
       "      <td>0.494151</td>\n",
       "      <td>2015-03-31</td>\n",
       "      <td>5110.0</td>\n",
       "      <td>NaN</td>\n",
       "      <td>836746.0</td>\n",
       "      <td>1973-06-29</td>\n",
       "      <td>0</td>\n",
       "      <td>0.0</td>\n",
       "      <td>[0]</td>\n",
       "    </tr>\n",
       "    <tr>\n",
       "      <th>10002699</th>\n",
       "      <td>0.412101</td>\n",
       "      <td>2015-04-27</td>\n",
       "      <td>1524453.0</td>\n",
       "      <td>0.0</td>\n",
       "      <td>204554.0</td>\n",
       "      <td>1985-11-08</td>\n",
       "      <td>0</td>\n",
       "      <td>0.0</td>\n",
       "      <td>[0]</td>\n",
       "    </tr>\n",
       "    <tr>\n",
       "      <th>10003156</th>\n",
       "      <td>0.392127</td>\n",
       "      <td>2014-10-01</td>\n",
       "      <td>4625.0</td>\n",
       "      <td>4625.0</td>\n",
       "      <td>12000.0</td>\n",
       "      <td>1999-10-15</td>\n",
       "      <td>1</td>\n",
       "      <td>0.0</td>\n",
       "      <td>[0]</td>\n",
       "    </tr>\n",
       "    <tr>\n",
       "      <th>...</th>\n",
       "      <td>...</td>\n",
       "      <td>...</td>\n",
       "      <td>...</td>\n",
       "      <td>...</td>\n",
       "      <td>...</td>\n",
       "      <td>...</td>\n",
       "      <td>...</td>\n",
       "      <td>...</td>\n",
       "      <td>...</td>\n",
       "    </tr>\n",
       "    <tr>\n",
       "      <th>89940214</th>\n",
       "      <td>0.440045</td>\n",
       "      <td>2015-12-21</td>\n",
       "      <td>3949064.0</td>\n",
       "      <td>85634.0</td>\n",
       "      <td>233075.0</td>\n",
       "      <td>1982-03-01</td>\n",
       "      <td>1</td>\n",
       "      <td>0.0</td>\n",
       "      <td>[0]</td>\n",
       "    </tr>\n",
       "    <tr>\n",
       "      <th>89956528</th>\n",
       "      <td>0.429055</td>\n",
       "      <td>2015-05-27</td>\n",
       "      <td>544208.0</td>\n",
       "      <td>2340.0</td>\n",
       "      <td>632472.0</td>\n",
       "      <td>1982-03-12</td>\n",
       "      <td>0</td>\n",
       "      <td>2.0</td>\n",
       "      <td>]1, 10]</td>\n",
       "    </tr>\n",
       "    <tr>\n",
       "      <th>89988314</th>\n",
       "      <td>0.420380</td>\n",
       "      <td>2015-02-26</td>\n",
       "      <td>87354.0</td>\n",
       "      <td>57055.0</td>\n",
       "      <td>204711.0</td>\n",
       "      <td>1982-04-02</td>\n",
       "      <td>0</td>\n",
       "      <td>0.0</td>\n",
       "      <td>[0]</td>\n",
       "    </tr>\n",
       "    <tr>\n",
       "      <th>89989019</th>\n",
       "      <td>0.430475</td>\n",
       "      <td>2016-05-23</td>\n",
       "      <td>17588856.0</td>\n",
       "      <td>7209215.0</td>\n",
       "      <td>9771276.0</td>\n",
       "      <td>1982-04-02</td>\n",
       "      <td>0</td>\n",
       "      <td>18.0</td>\n",
       "      <td>&gt;10</td>\n",
       "    </tr>\n",
       "    <tr>\n",
       "      <th>92405451</th>\n",
       "      <td>0.412550</td>\n",
       "      <td>2020-12-29</td>\n",
       "      <td>25329490.0</td>\n",
       "      <td>729778.0</td>\n",
       "      <td>36698283.0</td>\n",
       "      <td>1985-03-01</td>\n",
       "      <td>0</td>\n",
       "      <td>23.0</td>\n",
       "      <td>&gt;10</td>\n",
       "    </tr>\n",
       "  </tbody>\n",
       "</table>\n",
       "<p>48685 rows × 9 columns</p>\n",
       "</div>"
      ],
      "text/plain": [
       "              PRED  FROM_DATE  CURRENT_ASSETS  CASH_AND_CASH_EQUIVALENTS  \\\n",
       "CVR                                                                        \n",
       "10000459  0.391278 2014-04-15       1676221.0                  1382865.0   \n",
       "10001323  0.388885 2017-02-20       1133727.0                   256841.0   \n",
       "10002028  0.494151 2015-03-31          5110.0                        NaN   \n",
       "10002699  0.412101 2015-04-27       1524453.0                        0.0   \n",
       "10003156  0.392127 2014-10-01          4625.0                     4625.0   \n",
       "...            ...        ...             ...                        ...   \n",
       "89940214  0.440045 2015-12-21       3949064.0                    85634.0   \n",
       "89956528  0.429055 2015-05-27        544208.0                     2340.0   \n",
       "89988314  0.420380 2015-02-26         87354.0                    57055.0   \n",
       "89989019  0.430475 2016-05-23      17588856.0                  7209215.0   \n",
       "92405451  0.412550 2020-12-29      25329490.0                   729778.0   \n",
       "\n",
       "          SHORT_TERM_LIABILITIES FOUNDING_DATE TARGET  EmployeeCounts  \\\n",
       "CVR                                                                     \n",
       "10000459              43367402.0    1999-10-15      1             0.0   \n",
       "10001323               1057192.0    1999-10-08      0             0.0   \n",
       "10002028                836746.0    1973-06-29      0             0.0   \n",
       "10002699                204554.0    1985-11-08      0             0.0   \n",
       "10003156                 12000.0    1999-10-15      1             0.0   \n",
       "...                          ...           ...    ...             ...   \n",
       "89940214                233075.0    1982-03-01      1             0.0   \n",
       "89956528                632472.0    1982-03-12      0             2.0   \n",
       "89988314                204711.0    1982-04-02      0             0.0   \n",
       "89989019               9771276.0    1982-04-02      0            18.0   \n",
       "92405451              36698283.0    1985-03-01      0            23.0   \n",
       "\n",
       "         EMPLOYEES  \n",
       "CVR                 \n",
       "10000459       [0]  \n",
       "10001323       [0]  \n",
       "10002028       [0]  \n",
       "10002699       [0]  \n",
       "10003156       [0]  \n",
       "...            ...  \n",
       "89940214       [0]  \n",
       "89956528   ]1, 10]  \n",
       "89988314       [0]  \n",
       "89989019       >10  \n",
       "92405451       >10  \n",
       "\n",
       "[48685 rows x 9 columns]"
      ]
     },
     "execution_count": 125,
     "metadata": {},
     "output_type": "execute_result"
    }
   ],
   "source": [
    "result"
   ]
  },
  {
   "cell_type": "code",
   "execution_count": null,
   "metadata": {},
   "outputs": [],
   "source": [
    "\n",
    "# YEAR PREDICTION RESULTS\n",
    "# def bootstrap_simple(x, n_samples = 1000):\n",
    "#     N = x.shape[0]\n",
    "#     out = list()\n",
    "#     for i in range(n_samples):\n",
    "#         _id = np.random.choice(N, size=N, replace=True)\n",
    "#         tp = x[_id].sum()\n",
    "#         out.append(tp/N)\n",
    "#     return out, N, \n",
    "        \n",
    "        \n",
    "# py_label = [2022, 2023]\n",
    "# py_recall = list()\n",
    "# py_n_tp = list()\n",
    "# py_n_total = list()\n",
    "# for i in py_label:\n",
    "#     r = result[(result[\"YEAR\"]== (i)) & (result[\"TARGET\"] == 1)]\n",
    "#     y_hat = np.array((r[\"PRED\"].values > 0.5)).astype(int)\n",
    "#     _recall, _n = bootstrap_simple(y_hat)\n",
    "#     py_recall.append((np.mean(_recall), np.std(_recall)))\n",
    "#     py_n_tp.append(y_hat.sum())\n",
    "#     py_n_total.append(_n)\n",
    "\n",
    "# fig, ax = plt.subplots(1,2, figsize=(10,6))\n",
    "# mu = [i for i, _ in py_recall]\n",
    "# std = [i for _, i in py_recall]\n",
    "# ax[0].bar(x=py_label, height=mu, xerr=std, width=0.5)\n",
    "# ax[0].set_xlabel(\"Year of death\")\n",
    "# ax[0].set_ylabel(\"Fraction of correctly identified deceased people\")\n",
    "# ax[0].set_title(\"Recall for deceased people\")\n",
    "# ax[0].set_ylim([0, 1.])\n",
    "# ax[0].tick_params(axis= \"x\", which=\"major\", width= 1, length = 6, direction=\"out\", color=\"gray\")\n",
    "# ax[0].tick_params(axis= \"y\", which=\"minor\", width= 1, length = 3, direction=\"out\", color=\"gray\")\n",
    "# ax[0].yaxis.set_major_locator(MultipleLocator(0.1))\n",
    "# ax[0].yaxis.set_minor_locator(AutoMinorLocator(5))\n",
    "# ax[0].xaxis.set_major_locator(MultipleLocator(1))\n",
    "\n",
    "# ax[1].bar(x=[i-0.17 for i in py_label], height=py_n_total, width=0.3, label=\"Total\")\n",
    "# ax[1].bar(x=[i+ 0.17 for i in py_label], height=py_n_tp, width=0.3, label = \"True Positive\")\n",
    "# ax[1].legend()\n",
    "# ax[1].set_xlabel(\"Year of death\")\n",
    "# ax[1].set_ylabel(\"Fraction of correctly identified deceased people\")\n",
    "# ax[1].set_title(\"Predictions for deceased people\")\n",
    "# # ax[1].set_ylim([0, 1.])\n",
    "# ax[1].tick_params(axis= \"x\", which=\"major\", width= 1, length = 6, direction=\"out\", color=\"gray\")\n",
    "# ax[1].tick_params(axis= \"y\", which=\"minor\", width= 1, length = 3, direction=\"out\", color=\"gray\")\n",
    "# ax[1].xaxis.set_major_locator(MultipleLocator(1))\n",
    "# ax[1].yaxis.set_minor_locator(AutoMinorLocator(5))\n",
    "# sns.despine()\n",
    "# plt.tight_layout()\n",
    "# plt.savefig(save_path + \"yearly_mortality_performance.svg\", format=\"svg\")\n",
    "# plt.show()"
   ]
  },
  {
   "cell_type": "code",
   "execution_count": 126,
   "metadata": {},
   "outputs": [
    {
     "data": {
      "text/plain": [
       "['[0]', ']0, 1]', ']1, 10]>10']"
      ]
     },
     "execution_count": 126,
     "metadata": {},
     "output_type": "execute_result"
    }
   ],
   "source": [
    "groups = {\n",
    "          \"[0]\": result[\"EMPLOYEES\"] == \"[0]\",\n",
    "          \"]0, 1]\": result[\"EMPLOYEES\"] == \"]0, 1]\",\n",
    "          \"]1, 10]\": result[\"EMPLOYEES\"] == \"]1, 10]\",\n",
    "          \">10\": result[\"EMPLOYEES\"] == \">10\"\n",
    "            }\n",
    "\n",
    "[\"[0]\", ']0, 1]', ']1, 10]' '>10']"
   ]
  },
  {
   "cell_type": "code",
   "execution_count": 127,
   "metadata": {},
   "outputs": [
    {
     "name": "stdout",
     "output_type": "stream",
     "text": [
      "Done: [0]\n",
      "Done: ]0, 1]\n",
      "Done: ]1, 10]\n",
      "Done: >10\n"
     ]
    }
   ],
   "source": [
    "unitary_mcc = {}\n",
    "unitary_prb = {}\n",
    "unitary_cnt = {}\n",
    "\n",
    "for k, condition in groups.items():\n",
    "    preds = result[condition][\"PRED\"].values\n",
    "    targs = result[condition][\"TARGET\"].values\n",
    "    unitary_mcc[k] = bootstrap_mcc(torch.from_numpy(preds).float(), torch.from_numpy(targs.to_numpy()).long())\n",
    "    unitary_prb[k] = {\"median\": np.median(preds), \"mad\": mad(preds)}\n",
    "    unitary_cnt[k] = {\"total\": preds.shape[0], \"positive\": np.sum(targs.to_numpy())}\n",
    "    print(\"Done:\", k)"
   ]
  },
  {
   "cell_type": "code",
   "execution_count": 128,
   "metadata": {},
   "outputs": [],
   "source": [
    "def return_stats(labels, prb_dict, count_dict,  mcc_dict, title:str, figsize=(10,10)):\n",
    "    mu, var, err = [], [], []\n",
    "    padding = 0.5\n",
    "\n",
    "    for label in labels:\n",
    "        mu.append(prb_dict[label][\"median\"])\n",
    "        var.append(prb_dict[label][\"mad\"])\n",
    "        err.append([mu[-1] - var[-1], mu[-1] + var[-1]])\n",
    "    \n",
    "    fig, ax = plt.subplots(2,2, figsize=figsize)\n",
    "\n",
    "    #### MEDIAN PRB\n",
    "    ax[0,0].errorbar(y = labels, x = mu, xerr = var, fmt=\"o\",\n",
    "                     capsize=5, ecolor=\"dimgray\", ms=3.5,\n",
    "                     elinewidth=2, mfc=\"black\", mec=\"black\")\n",
    "    \n",
    "    ax[0,0].set_xlabel(\"Median Probability of Death\")\n",
    "    ax[0,0].set_ylabel(\"%s\" %title)\n",
    "    ax[0,0].set_title(\"Median Probability of Death per %s\" %title)\n",
    "\n",
    "    ax[0,0].tick_params(axis= \"x\", which=\"major\", width= 1, length = 6, direction=\"out\", color=\"gray\")\n",
    "    ax[0,0].tick_params(axis= \"x\", which=\"minor\", width= 1, length = 3, direction=\"out\", color=\"gray\")\n",
    "    ax[0,0].tick_params(axis= \"y\", which=\"both\", width=0, length =0)\n",
    "\n",
    "    ax[0,0].xaxis.set_major_locator(MultipleLocator(0.1))\n",
    "    ax[0,0].xaxis.set_minor_locator(AutoMinorLocator(5))\n",
    "    ax[0,0].set_ylim(-padding, len(labels) - 1 + padding)\n",
    "    ax[0,0].set_xlim([0, 1.])\n",
    "    #### POSITIVE COUNT\n",
    "    count = list()\n",
    "    for label in labels:\n",
    "        count.append(count_dict[label][\"positive\"])\n",
    "\n",
    "    ax[0,1].barh(y = labels, height = 0.5,  \n",
    "        width=count,  edgecolor=\"none\", facecolor=\"silver\")\n",
    "    ax[0,1].set_xlabel(\"Number of Deceased\")\n",
    "    ax[0,1].set_ylabel(\"%s\" %title)\n",
    "    ax[0,1].set_title(\"Number of Deceased People per %s\" %title)\n",
    "\n",
    "    ax[0,1].tick_params(axis= \"x\", which=\"major\", width= 1, length = 6, direction=\"out\", color=\"gray\")\n",
    "    ax[0,1].tick_params(axis= \"x\", which=\"minor\", width= 1, length = 3, direction=\"out\", color=\"gray\")\n",
    "    ax[0,1].tick_params(axis= \"y\", which=\"both\", width=0, length =0)\n",
    "\n",
    "    ax[0,1].xaxis.set_major_locator(MultipleLocator(500))\n",
    "    ax[0,1].xaxis.set_minor_locator(AutoMinorLocator(5))\n",
    "\n",
    "    ### POPULATION COUNTS\n",
    "    count = list()\n",
    "    for label in labels:\n",
    "        count.append(count_dict[label][\"total\"])\n",
    "    ax[1,0].barh(y = labels, height = 0.5, label = \"alive\",  width=count, facecolor=\"silver\", edgecolor=\"none\")\n",
    "    count = list()\n",
    "    for label in labels:\n",
    "        count.append(count_dict[label][\"positive\"]) #+ count_dict[label][\"unlabeled\"])\n",
    "    \n",
    "    #ax[1,0].barh(y = labels, height = 0.5, label= \"unlabeled\",  width=count, facecolor=\"orange\", edgecolor=\"none\")\n",
    "    count = list()\n",
    "    for label in labels:\n",
    "        count.append(count_dict[label][\"positive\"])\n",
    "    ax[1,0].barh(y = labels, height = 0.5, label= \"deceased\",  width=count, facecolor=\"dimgray\", edgecolor=\"none\")\n",
    "\n",
    "\n",
    "    ax[1,0].set_xlabel(\"Number of People\")\n",
    "    ax[1,0].set_ylabel(\"%s\" %title)\n",
    "    ax[1,0].set_title(\"Number of People per %s\" %title)\n",
    "    ax[1,0].tick_params(axis= \"x\", which=\"major\", width=1, length = 6, direction=\"out\", color=\"gray\")\n",
    "    ax[1,0].tick_params(axis= \"x\", which=\"minor\", width=1, length =3, direction=\"out\", color=\"gray\")\n",
    "    ax[1,0].tick_params(axis= \"y\", which=\"both\", width=0, length =0)\n",
    "    xlim = np.max([ax[1,0].get_xlim()[1], 10100])\n",
    "    ax[1,0].set_xlim([0, xlim])\n",
    "    if xlim < 35000:\n",
    "        ax[1,0].xaxis.set_major_locator(MultipleLocator(5000))\n",
    "    else:\n",
    "        ax[1,0].xaxis.set_major_locator(MultipleLocator(15000))\n",
    "\n",
    "    ax[1,0].xaxis.set_minor_locator(AutoMinorLocator(5))\n",
    "    ax[1,0].legend()\n",
    "    \n",
    "    mu, var, err = [], [], []\n",
    "\n",
    "    for label in labels:\n",
    "        mu.append(mcc_dict[label][\"mean\"])\n",
    "        var.append(mcc_dict[label][\"upper\"])\n",
    "        err.append([np.abs(mu[-1] - mcc_dict[label][\"lower\"]), np.abs(mu[-1] - mcc_dict[label][\"upper\"])])\n",
    "        \n",
    "\n",
    "    ax[1,1].errorbar(y = labels,  \n",
    "        xerr= np.array(err).T, x= mu, fmt=\"o\",\n",
    "                     capsize=5, ecolor=\"dimgray\", ms=3.5,\n",
    "                     elinewidth=2, mfc=\"black\", mec=\"black\")\n",
    "    ax[1,1].set_xlabel(\"MCC Score\")\n",
    "    ax[1,1].set_ylabel(\"%s\" %title)\n",
    "    ax[1,1].set_title(\"MCC per %s\" %title)\n",
    "    xlim = np.max([np.max(var) + 0.05, 0.8])\n",
    "    ax[1,1].set_xlim([-0.1, xlim])\n",
    "    ax[1,1].set_ylim([-padding, len(labels)-1+padding])\n",
    "    ax[1,1].axvline(0.0, color=\"gray\", linewidth=0.5, linestyle= \":\")\n",
    "    ax[1,1].axvline(0.413, color=\"blue\", linewidth=1, linestyle= \":\")\n",
    "\n",
    "\n",
    "    ax[1,1].tick_params(axis= \"x\", which=\"major\", width=1, length = 6, direction=\"out\", color=\"gray\")\n",
    "    ax[1,1].tick_params(axis= \"x\", which=\"minor\", width=1, length =3, direction=\"out\", color=\"gray\")\n",
    "    ax[1,1].tick_params(axis= \"y\", which=\"both\", width=0, length =0)\n",
    "\n",
    "    ax[1,1].xaxis.set_major_locator(MultipleLocator(0.1))\n",
    "    ax[1,1].xaxis.set_minor_locator(AutoMinorLocator(5))\n",
    "    return fig"
   ]
  },
  {
   "cell_type": "code",
   "execution_count": 129,
   "metadata": {},
   "outputs": [
    {
     "data": {
      "image/png": "[encoded data removed]",
      "text/plain": [
       "<Figure size 1100x700 with 4 Axes>"
      ]
     },
     "metadata": {},
     "output_type": "display_data"
    }
   ],
   "source": [
    "labels = [\"[0]\", ']0, 1]', ']1, 10]', '>10']\n",
    "group_title = \"Employee Group\"\n",
    "return_stats(labels, unitary_prb, unitary_cnt, unitary_mcc, group_title, figsize=(11,7))\n",
    "sns.despine()\n",
    "plt.tight_layout()\n",
    "#plt.savefig(save_path + \"mortality_age.svg\", format=\"svg\")\n",
    "plt.show()"
   ]
  },
  {
   "cell_type": "code",
   "execution_count": null,
   "metadata": {},
   "outputs": [],
   "source": [
    "labels = ['[0]', '[1,5)', '[5,11)', '[11,19)', '>=19']\n",
    "group_title = \"Health Group\"\n",
    "return_stats(labels, unitary_prb, unitary_cnt, unitary_mcc, group_title, figsize=(11,5))\n",
    "sns.despine()\n",
    "plt.tight_layout()\n",
    "plt.savefig(save_path + \"mortality_health_events.svg\", format=\"svg\")\n",
    "plt.show()"
   ]
  },
  {
   "cell_type": "code",
   "execution_count": null,
   "metadata": {},
   "outputs": [],
   "source": [
    "labels = [ '[48, 921)', '[921, 1176)', '[1176, 2560]']\n",
    "group_title = \"Sequence Len Group\"\n",
    "return_stats(labels, unitary_prb, unitary_cnt, unitary_mcc, group_title, figsize=(11,4))\n",
    "sns.despine()\n",
    "plt.tight_layout()\n",
    "plt.savefig(save_path + \"mortality_seqlen.svg\", format=\"svg\")\n",
    "plt.show()"
   ]
  },
  {
   "cell_type": "code",
   "execution_count": null,
   "metadata": {},
   "outputs": [],
   "source": [
    "labels = ['(34,39]', '(39, 44]', '(44, 49]', '(49, 54]', '(54, 59]', '(59, 64]']\n",
    "group_title = \"Age Group\"\n",
    "return_stats(labels, unitary_prb, unitary_cnt, unitary_mcc, group_title, figsize=(11,7))\n",
    "sns.despine()\n",
    "plt.tight_layout()\n",
    "plt.savefig(save_path + \"mortality_age.svg\", format=\"svg\")\n",
    "plt.show()"
   ]
  },
  {
   "cell_type": "code",
   "execution_count": null,
   "metadata": {},
   "outputs": [],
   "source": [
    "labels = [\"male\", \"female\", \"DK\", \"NON-DK\"]\n",
    "group_title = \"Unitary (Subset) Groups\"\n",
    "return_stats(labels, unitary_prb, unitary_cnt, unitary_mcc, group_title, figsize=(11,5))\n",
    "sns.despine()\n",
    "plt.tight_layout()\n",
    "plt.savefig(save_path + \"mortality_unitary.svg\", format=\"svg\")\n",
    "plt.show()"
   ]
  },
  {
   "cell_type": "code",
   "execution_count": null,
   "metadata": {},
   "outputs": [],
   "source": [
    "labels = ['male', 'female', '(34,39]', '(39, 44]', '(44, 49]', '(49, 54]', '(54, 59]', '(59, 64]', 'DK', 'NON-DK']\n",
    "group_title = \"Unitary (All) Groups\"\n",
    "return_stats(labels, unitary_prb, unitary_cnt, unitary_mcc, group_title, figsize=(11,11))\n",
    "sns.despine()\n",
    "plt.tight_layout()\n",
    "plt.savefig(save_path + \"mortality_unitary_full.svg\", format=\"svg\")\n",
    "plt.show()"
   ]
  },
  {
   "cell_type": "code",
   "execution_count": null,
   "metadata": {},
   "outputs": [],
   "source": [
    "intersect_groups = dict()\n",
    "\n",
    "for l1 in ['(34,39]', '(39, 44]', '(44, 49]', '(49, 54]', '(54, 59]', '(59, 64]']:\n",
    "    for l2 in [\"male\", \"female\"]:\n",
    "        intersect_groups[\" \".join([l1,l2])] = (groups[l1]) & (groups[l2])\n",
    "\n",
    "intersec_mcc = {}\n",
    "intersec_prb = {}\n",
    "intersec_cnt = {}\n",
    "\n",
    "for k, condition in intersect_groups.items():\n",
    "    preds = result[condition][\"PRED\"].values\n",
    "    targs = result[condition][\"TARGET\"].values\n",
    "    intersec_mcc[k] = bootstrap_mcc(torch.from_numpy(preds).float(), torch.from_numpy(targs).long())\n",
    "    intersec_prb[k] = {\"median\": np.median(preds), \"mad\": mad(preds)}\n",
    "    intersec_cnt[k] = {\"total\": preds.shape[0], \"positive\": np.sum(targs), \"unlabeled\": result[condition][\"UNLABELED\"].values.sum()}\n",
    "    print(\"Done:\", k)\n"
   ]
  },
  {
   "cell_type": "code",
   "execution_count": null,
   "metadata": {},
   "outputs": [],
   "source": [
    "labels = list(intersect_groups.keys())\n",
    "group_title = \"Intersectional (All) Groups\"\n",
    "return_stats(labels, intersec_prb, intersec_cnt, intersec_mcc, group_title, figsize=(11,13))\n",
    "sns.despine()\n",
    "plt.tight_layout()\n",
    "plt.savefig(save_path + \"mortality_intersect_age_sex.svg\", format=\"svg\")\n",
    "plt.show()"
   ]
  },
  {
   "cell_type": "code",
   "execution_count": null,
   "metadata": {},
   "outputs": [],
   "source": [
    "intersect_groups = dict()\n",
    "\n",
    "for l1 in ['[0]', '(0,3)', '[3,9)', '>9']:\n",
    "    for l2 in [\"male\", \"female\"]:\n",
    "        intersect_groups[\" \".join([l1,l2])] = (groups[l1]) & (groups[l2])\n",
    "\n",
    "intersec_mcc = {}\n",
    "intersec_prb = {}\n",
    "intersec_cnt = {}\n",
    "\n",
    "for k, condition in intersect_groups.items():\n",
    "    preds = result[condition][\"PRED\"].values\n",
    "    targs = result[condition][\"TARGET\"].values\n",
    "    intersec_mcc[k] = bootstrap_mcc(torch.from_numpy(preds).float(), torch.from_numpy(targs).long())\n",
    "    intersec_prb[k] = {\"median\": np.median(preds), \"mad\": mad(preds)}\n",
    "    intersec_cnt[k] = {\"total\": preds.shape[0], \"positive\": np.sum(targs), \"unlabeled\": result[condition][\"UNLABELED\"].values.sum()}\n",
    "    print(\"Done:\", k)"
   ]
  },
  {
   "cell_type": "code",
   "execution_count": null,
   "metadata": {},
   "outputs": [],
   "source": [
    "labels = list(intersect_groups.keys())\n",
    "group_title = \"Intersectional (Subset) Groups\"\n",
    "return_stats(labels, intersec_prb, intersec_cnt, intersec_mcc, group_title, figsize=(11,9))\n",
    "sns.despine()\n",
    "plt.tight_layout()\n",
    "plt.savefig(save_path + \"mortality_intersect_sex_health.svg\", format=\"svg\")\n",
    "plt.show()"
   ]
  },
  {
   "cell_type": "code",
   "execution_count": null,
   "metadata": {},
   "outputs": [],
   "source": [
    "intersect_groups = dict()\n",
    "\n",
    "for l1 in ['[48, 921)', '[921, 1176)', '[1176, 2560]']:\n",
    "    for l2 in [\"male\", \"female\"]:\n",
    "        intersect_groups[\" \".join([l1,l2])] = (groups[l1]) & (groups[l2])\n",
    "\n",
    "intersec_mcc = {}\n",
    "intersec_prb = {}\n",
    "intersec_cnt = {}\n",
    "\n",
    "for k, condition in intersect_groups.items():\n",
    "    preds = result[condition][\"PRED\"].values\n",
    "    targs = result[condition][\"TARGET\"].values\n",
    "    intersec_mcc[k] = bootstrap_mcc(torch.from_numpy(preds).float(), torch.from_numpy(targs).long())\n",
    "    intersec_prb[k] = {\"median\": np.median(preds), \"mad\": mad(preds)}\n",
    "    intersec_cnt[k] = {\"total\": preds.shape[0], \"positive\": np.sum(targs), \"unlabeled\": result[condition][\"UNLABELED\"].values.sum()}\n",
    "    print(\"Done:\", k)\n",
    "    "
   ]
  },
  {
   "cell_type": "code",
   "execution_count": null,
   "metadata": {},
   "outputs": [],
   "source": [
    "labels = list(intersect_groups.keys())\n",
    "group_title = \"Intersectional (Subset) Groups\"\n",
    "return_stats(labels, intersec_prb, intersec_cnt, intersec_mcc, group_title, figsize=(11,7))\n",
    "sns.despine()\n",
    "plt.tight_layout()\n",
    "plt.savefig(save_path + \"mortality_intersect_sex_length.svg\", format=\"svg\")\n",
    "plt.show()"
   ]
  },
  {
   "cell_type": "code",
   "execution_count": null,
   "metadata": {},
   "outputs": [],
   "source": []
  }
 ],
 "metadata": {
  "kernelspec": {
   "display_name": "myenv2",
   "language": "python",
   "name": "python3"
  },
  "language_info": {
   "codemirror_mode": {
    "name": "ipython",
    "version": 3
   },
   "file_extension": ".py",
   "mimetype": "text/x-python",
   "name": "python",
   "nbconvert_exporter": "python",
   "pygments_lexer": "ipython3",
   "version": "3.9.13"
  }
 },
 "nbformat": 4,
 "nbformat_minor": 4
}
