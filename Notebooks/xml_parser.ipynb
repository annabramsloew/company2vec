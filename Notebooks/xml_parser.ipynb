{
 "cells": [
  {
   "cell_type": "code",
   "execution_count": 26,
   "metadata": {},
   "outputs": [],
   "source": [
    "import pandas as pd\n",
    "import numpy as np\n",
    "import requests\n",
    "import xmltodict"
   ]
  },
  {
   "cell_type": "code",
   "execution_count": 27,
   "metadata": {},
   "outputs": [],
   "source": [
    "#test with valcon\n",
    "#url = \"https://regnskaber.virk.dk/93375653/ZG9rdW1lbnRsYWdlcjovLzAzLzE4LzQzLzY2LzRjLzcyOTUtNDE4Ni04ZDRkLWU1YTExZGJlZWI1NA.xml\"\n",
    "url = \"http://regnskaber.virk.dk/49007313/ZG9rdW1lbnRsYWdlcjovLzAzLzcyL2RjLzRlLzNmL2E5MGEtNDJlOS1hNWUyLWMzMGM3ZTFmYTQ1Nw.xml\"\n"
   ]
  },
  {
   "cell_type": "code",
   "execution_count": 28,
   "metadata": {},
   "outputs": [],
   "source": [
    "response = requests.get(url)"
   ]
  },
  {
   "cell_type": "code",
   "execution_count": 29,
   "metadata": {},
   "outputs": [
    {
     "data": {
      "text/plain": [
       "<Response [200]>"
      ]
     },
     "execution_count": 29,
     "metadata": {},
     "output_type": "execute_result"
    }
   ],
   "source": [
    "response"
   ]
  },
  {
   "cell_type": "code",
   "execution_count": 30,
   "metadata": {},
   "outputs": [],
   "source": [
    "data = xmltodict.parse(response.content)"
   ]
  },
  {
   "cell_type": "code",
   "execution_count": 31,
   "metadata": {},
   "outputs": [
    {
     "data": {
      "text/plain": [
       "{'xbrli:xbrl': {'@xmlns:xbrli': 'http://www.xbrl.org/2003/instance',\n",
       "  '@xmlns': 'http://www.w3.org/1999/xhtml',\n",
       "  '@xmlns:basis': 'http://xbrl.dcca.dk/Regnskab%202.0%20Basis',\n",
       "  '@xmlns:lnk': 'http://www.xbrl.org/2003/linkbase',\n",
       "  '@xmlns:xhtml': 'http://www.w3.org/1999/xhtml',\n",
       "  '@xmlns:xl': 'http://www.xbrl.org/2003/XLink',\n",
       "  '@xmlns:link': 'http://www.xbrl.org/2003/linkbase',\n",
       "  '@xmlns:xs': 'http://www.w3.org/2001/XMLSchema',\n",
       "  '@xmlns:dst': 'http://xbrl.dcca.dk/dst',\n",
       "  '@xmlns:cmn': 'http://xbrl.dcca.dk/cmn',\n",
       "  '@xmlns:gsd': 'http://xbrl.dcca.dk/gsd',\n",
       "  '@xmlns:mrv': 'http://xbrl.dcca.dk/mrv',\n",
       "  '@xmlns:xh11d': 'http://www.w3.org/1999/xhtml/datatypes/',\n",
       "  '@xmlns:ixt': 'http://www.xbrl.org/inlineXBRL/transformation/2010-04-20',\n",
       "  '@xmlns:fsa': 'http://xbrl.dcca.dk/fsa',\n",
       "  '@xmlns:arr': 'http://xbrl.dcca.dk/arr',\n",
       "  '@xmlns:ix': 'http://www.xbrl.org/2008/inlineXBRL',\n",
       "  '@xmlns:xbrldt': 'http://xbrl.org/2005/xbrldt',\n",
       "  '@xmlns:ifrs': 'http://xbrl.iasb.org/taxonomy/2009-04-01/ifrs',\n",
       "  '@xmlns:ref': 'http://www.xbrl.org/2006/ref',\n",
       "  '@xmlns:xbrldi': 'http://xbrl.org/2006/xbrldi',\n",
       "  '@xmlns:xlink': 'http://www.w3.org/1999/xlink',\n",
       "  '@xmlns:xsi': 'http://www.w3.org/2001/XMLSchema-instance',\n",
       "  '@xmlns:iso4217': 'http://www.xbrl.org/2003/iso4217',\n",
       "  '@xmlns:sob': 'http://xbrl.dcca.dk/sob',\n",
       "  'lnk:schemaRef': {'@xlink:href': 'http://archprod.service.eogs.dk/taxonomy/20151001/entryDanishGAAPBalanceSheetAccountFormIncomeStatementByNatureIncludingManagementsReviewStatisticsAndTax20151001.xsd',\n",
       "   '@xlink:type': 'simple'},\n",
       "  'xbrli:context': [{'@id': 'c0',\n",
       "    'xbrli:entity': {'xbrli:identifier': {'@scheme': 'http://www.dcca.dk/cvr',\n",
       "      '#text': '31370094'}},\n",
       "    'xbrli:period': {'xbrli:startDate': '2015-01-01',\n",
       "     'xbrli:endDate': '2015-12-31'}},\n",
       "   {'@id': 'c1',\n",
       "    'xbrli:entity': {'xbrli:identifier': {'@scheme': 'http://www.dcca.dk/cvr',\n",
       "      '#text': '31370094'}},\n",
       "    'xbrli:period': {'xbrli:startDate': '2015-01-01',\n",
       "     'xbrli:endDate': '2015-12-31'},\n",
       "    'xbrli:scenario': {'xbrldi:typedMember': {'@dimension': 'cmn:IdentificationOfMemberOfExecutiveBoardDimension',\n",
       "      'cmn:memberOfBoardIdentifier': '0'}}},\n",
       "   {'@id': 'c2',\n",
       "    'xbrli:entity': {'xbrli:identifier': {'@scheme': 'http://www.dcca.dk/cvr',\n",
       "      '#text': '31370094'}},\n",
       "    'xbrli:period': {'xbrli:startDate': '2014-01-01',\n",
       "     'xbrli:endDate': '2014-12-31'}},\n",
       "   {'@id': 'c3',\n",
       "    'xbrli:entity': {'xbrli:identifier': {'@scheme': 'http://www.dcca.dk/cvr',\n",
       "      '#text': '31370094'}},\n",
       "    'xbrli:period': {'xbrli:startDate': '2015-01-01',\n",
       "     'xbrli:endDate': '2015-12-31'},\n",
       "    'xbrli:scenario': {'xbrldi:explicitMember': {'@dimension': 'fsa:ResultDistributionDimension',\n",
       "      '#text': 'fsa:RetainedEarningsMember'}}},\n",
       "   {'@id': 'c4',\n",
       "    'xbrli:entity': {'xbrli:identifier': {'@scheme': 'http://www.dcca.dk/cvr',\n",
       "      '#text': '31370094'}},\n",
       "    'xbrli:period': {'xbrli:startDate': '2014-01-01',\n",
       "     'xbrli:endDate': '2014-12-31'},\n",
       "    'xbrli:scenario': {'xbrldi:explicitMember': {'@dimension': 'fsa:ResultDistributionDimension',\n",
       "      '#text': 'fsa:RetainedEarningsMember'}}},\n",
       "   {'@id': 'c5',\n",
       "    'xbrli:entity': {'xbrli:identifier': {'@scheme': 'http://www.dcca.dk/cvr',\n",
       "      '#text': '31370094'}},\n",
       "    'xbrli:period': {'xbrli:instant': '2015-12-31'}},\n",
       "   {'@id': 'c6',\n",
       "    'xbrli:entity': {'xbrli:identifier': {'@scheme': 'http://www.dcca.dk/cvr',\n",
       "      '#text': '31370094'}},\n",
       "    'xbrli:period': {'xbrli:instant': '2014-12-31'}}],\n",
       "  'xbrli:unit': {'@id': 'u0', 'xbrli:measure': 'iso4217:DKK'},\n",
       "  'gsd:InformationOnTypeOfSubmittedReport': {'@basis:version': '3',\n",
       "   '@contextRef': 'c0',\n",
       "   '@xml:lang': 'da',\n",
       "   '#text': 'Årsrapport'},\n",
       "  'gsd:DateOfGeneralMeeting': {'@contextRef': 'c0', '#text': '2016-04-29'},\n",
       "  'gsd:NameAndSurnameOfChairmanOfGeneralMeeting': {'@contextRef': 'c0',\n",
       "   '@xml:lang': 'da',\n",
       "   '#text': 'Tore Bagge Friis'},\n",
       "  'gsd:NameOfReportingEntity': {'@contextRef': 'c0',\n",
       "   '@xml:lang': 'da',\n",
       "   '#text': 'JØRGEN FRIIS REVISION STATSAUTORISERET REVISIONSANPARTSSELSKAB'},\n",
       "  'gsd:AddressOfReportingEntityStreetName': {'@contextRef': 'c0',\n",
       "   '@xml:lang': 'da',\n",
       "   '#text': 'Falkoner Alle'},\n",
       "  'gsd:AddressOfReportingEntityStreetBuildingIdentifier': {'@contextRef': 'c0',\n",
       "   '@xml:lang': 'da',\n",
       "   '#text': '53, 5'},\n",
       "  'gsd:AddressOfReportingEntityPostCodeIdentifier': {'@contextRef': 'c0',\n",
       "   '@xml:lang': 'da',\n",
       "   '#text': '2000'},\n",
       "  'gsd:AddressOfReportingEntityDistrictName': {'@contextRef': 'c0',\n",
       "   '@xml:lang': 'da',\n",
       "   '#text': 'Frederiksberg'},\n",
       "  'gsd:TelephoneNumberOfReportingEntity': {'@contextRef': 'c0',\n",
       "   '@xml:lang': 'da',\n",
       "   '#text': '38331033'},\n",
       "  'gsd:EmailOfReportingEntity': {'@contextRef': 'c0',\n",
       "   '@xml:lang': 'da',\n",
       "   '#text': 'tb.friis@youmail.dk'},\n",
       "  'gsd:IdentificationNumberCvrOfReportingEntity': {'@contextRef': 'c0',\n",
       "   '@xml:lang': 'da',\n",
       "   '#text': '31370094'},\n",
       "  'gsd:ReportingPeriodStartDate': {'@contextRef': 'c0', '#text': '2015-01-01'},\n",
       "  'gsd:ReportingPeriodEndDate': {'@contextRef': 'c0', '#text': '2015-12-31'},\n",
       "  'gsd:NameOfFinancialInstitution': {'@contextRef': 'c0',\n",
       "   '@xml:lang': 'da',\n",
       "   '#text': 'Danske Bank'},\n",
       "  'gsd:AddressOfFinancialStreetName': {'@contextRef': 'c0',\n",
       "   '@xml:lang': 'da',\n",
       "   '#text': 'Falkoner Allé 55'},\n",
       "  'gsd:AddressOfFinancialDistrictName': {'@contextRef': 'c0',\n",
       "   '@xml:lang': 'da',\n",
       "   '#text': '2000 Frederiksberg'},\n",
       "  'sob:StatementByExecutiveAndSupervisoryBoards': {'@contextRef': 'c0',\n",
       "   '@xml:lang': 'da',\n",
       "   '#text': '<p xmlns=\"http://www.w3.org/1999/xhtml\">Ledelsen\\xa0har dags dato aflagt årsrapporten for 2015 for Jørgen Friis Revision, Statsautoriseret Revisionsanpartsselskab.\\xa0</p>\\n<p xmlns=\"http://www.w3.org/1999/xhtml\">\\xa0</p>\\n<p xmlns=\"http://www.w3.org/1999/xhtml\">Årsrapporten er aflagt i overensstemmelse med Årsregnskabsloven for klasse B-virksomheder.</p>\\n<p xmlns=\"http://www.w3.org/1999/xhtml\">\\xa0</p>\\n<p xmlns=\"http://www.w3.org/1999/xhtml\">Vi anser den valgte regnskabspraksis for hensigtsmæssig, således at årsrapporten giver et\\xa0 retvisende billede af selskabets finansielle stilling pr. 31. december 2015 samt af selskabets\\xa0finansielle\\xa0resultat for regnskabsåret 2015.</p>\\n<p xmlns=\"http://www.w3.org/1999/xhtml\">\\xa0</p>\\n<p xmlns=\"http://www.w3.org/1999/xhtml\">Ledelsen har konstateret, at selskabet opfylder betingelserne for fravalg af revision og har besluttet at regnskabet for det kommende år ikke skal revideres.</p>\\n<p xmlns=\"http://www.w3.org/1999/xhtml\">\\xa0</p>\\n<p xmlns=\"http://www.w3.org/1999/xhtml\">Årsrapporten indstilles til generalforsamlingens godkendelse.</p>\\n<p xmlns=\"http://www.w3.org/1999/xhtml\">\\xa0</p>\\n<p style=\"text-align: center;\" xmlns=\"http://www.w3.org/1999/xhtml\">\\xa0</p>\\n<p style=\"text-align: center;\" xmlns=\"http://www.w3.org/1999/xhtml\">\\xa0</p>\\n<p style=\"text-align: center;\" xmlns=\"http://www.w3.org/1999/xhtml\">\\xa0</p>\\n<p xmlns=\"http://www.w3.org/1999/xhtml\">\\xa0</p>'},\n",
       "  'sob:PlaceOfSignatureOfStatement': {'@contextRef': 'c0',\n",
       "   '@xml:lang': 'da',\n",
       "   '#text': 'Frederiksberg'},\n",
       "  'sob:DateOfApprovalOfAnnualReport': {'@contextRef': 'c0',\n",
       "   '#text': '2016-04-29'},\n",
       "  'cmn:NameAndSurnameOfMemberOfExecutiveBoard': {'@contextRef': 'c1',\n",
       "   '@xml:lang': 'da',\n",
       "   '#text': 'Tore Bagge Friis'},\n",
       "  'fsa:InformationOnReportingClassOfEntity': {'@contextRef': 'c0',\n",
       "   '@xml:lang': 'da',\n",
       "   '#text': 'Årsrapporten er aflagt i overensstemmelse med årsregnskabslovens bestemmelser for Regnskabsklasse B.'},\n",
       "  'fsa:ClassOfReportingEntity': {'@contextRef': 'c0',\n",
       "   '@xml:lang': 'da',\n",
       "   '#text': 'Regnskabsklasse B'},\n",
       "  'fsa:DisclosureOfAccountingPolicies': {'@contextRef': 'c0',\n",
       "   '@xml:lang': 'da',\n",
       "   '#text': '<h3 xmlns=\"http://www.w3.org/1999/xhtml\">Generelt</h3>\\n<p xmlns=\"http://www.w3.org/1999/xhtml\">Årsrapporten for Jørgen Friis Revision, Statsautoriseret Revisionsanpartsselskab for 01. januar\\xa0- 31. december 2015 er aflagt i overensstemmelse med Årsregnskabslovens\\xa0 bestemmelser for\\xa0\\xa0klasse B-virksomheder.</p>\\n<p xmlns=\"http://www.w3.org/1999/xhtml\">\\xa0</p>\\n<p xmlns=\"http://www.w3.org/1999/xhtml\">Der er ikke foretaget ændringer i regnskabsprincipper.</p>\\n<p xmlns=\"http://www.w3.org/1999/xhtml\">\\xa0</p>\\n<h3 xmlns=\"http://www.w3.org/1999/xhtml\">Generelt om indregning og måling</h3>\\n<p xmlns=\"http://www.w3.org/1999/xhtml\">I resultatopgørelsen indregnes indtægter i takt med, at de indtjenes, herunder indregnes værdireguleringer af finansielle aktiver og forpligtelser. I resultatopgørelsen indregnes ligeledes alle omkostninger, herunder afskrivninger og nedskrivninger.</p>\\n<p xmlns=\"http://www.w3.org/1999/xhtml\">Aktiver indregnes i balancen, når det er sandsynligt, at fremtidige økonomiske fordele vil tilflyde selskabet, og aktivets værdi kan måles pålideligt.</p>\\n<p xmlns=\"http://www.w3.org/1999/xhtml\">Forpligtelser indregnes i balancen, når det er sandsynligt, at fremtidige økonomiske fordele vil fragå selskabet, og forpligtelsens værdi kan måles pålideligt.\\n<br/>Ved indregning og måling tages hensyn til forudsigelige tab og risici, der fremkommer inden årsrapporten aflægges, og som be- eller afkræfter forhold, der eksisterede på balancedagen.\\n<br/>\\xa0</p>\\n<h2 xmlns=\"http://www.w3.org/1999/xhtml\">Resultatopgørelse</h2>\\n<p xmlns=\"http://www.w3.org/1999/xhtml\">\\n  <strong>Bruttofortjeneste:</strong>\\n</p>\\n<p xmlns=\"http://www.w3.org/1999/xhtml\">Nettoomsætning og eksterne omkostninger er vist som bruttofortjeneste, jfr. årsregnskabslovens § 32.</p>\\n<p xmlns=\"http://www.w3.org/1999/xhtml\">\\xa0</p>\\n<p xmlns=\"http://www.w3.org/1999/xhtml\">\\n  <strong>Indtægtskriterium:</strong>\\n</p>\\n<p xmlns=\"http://www.w3.org/1999/xhtml\">Selskabets nettoomsætning er indregnet med produktionsprincippet som indtægtsgrundlag.</p>\\n<p xmlns=\"http://www.w3.org/1999/xhtml\">\\xa0</p>\\n<p xmlns=\"http://www.w3.org/1999/xhtml\">\\n<strong>Personaleomkostninger</strong>:</p>\\n<p xmlns=\"http://www.w3.org/1999/xhtml\">Personaleomkostninger omfatter løn til selskabets personale.</p>\\n<p xmlns=\"http://www.w3.org/1999/xhtml\">\\xa0</p>\\n<p xmlns=\"http://www.w3.org/1999/xhtml\">\\n<strong>Finansielle poster</strong>:</p>\\n<p xmlns=\"http://www.w3.org/1999/xhtml\">Renteindtægter og -omkostninger indregnes i resultatopgørelsen med de beløb, der vedrører regnskabsåret.</p>\\n<p xmlns=\"http://www.w3.org/1999/xhtml\">\\xa0</p>\\n<p xmlns=\"http://www.w3.org/1999/xhtml\">\\n  <strong>Skat af årets resultat:</strong>\\n</p>\\n<p xmlns=\"http://www.w3.org/1999/xhtml\">Årets skat, der består af årets aktuelle skat samt udskudt skat, indregnes i resultatopgørelsen med 23,5% af selskabets skattepligtige indkomst plus eventuelt tillæg.</p>\\n<p xmlns=\"http://www.w3.org/1999/xhtml\">\\xa0</p>\\n<p xmlns=\"http://www.w3.org/1999/xhtml\">\\xa0</p>\\n<h2 xmlns=\"http://www.w3.org/1999/xhtml\">Balance</h2>\\n<p xmlns=\"http://www.w3.org/1999/xhtml\">\\xa0</p>\\n<p xmlns=\"http://www.w3.org/1999/xhtml\">\\n  <strong>Andre værdipapirer og kapitalandele:</strong>\\n</p>\\n<p xmlns=\"http://www.w3.org/1999/xhtml\">Andre værdipapirer og kapitalandele optages i balancen til anskaffelsesværdi.</p>\\n<p xmlns=\"http://www.w3.org/1999/xhtml\">\\xa0</p>\\n<p xmlns=\"http://www.w3.org/1999/xhtml\">\\n  <strong>Likvide beholdninger:</strong>\\n</p>\\n<p xmlns=\"http://www.w3.org/1999/xhtml\">Likvide beholdninger optages i balancen til nominel værdi.</p>\\n<p xmlns=\"http://www.w3.org/1999/xhtml\">\\xa0</p>\\n<p xmlns=\"http://www.w3.org/1999/xhtml\">\\n  <strong>Gældsforpligtelser:</strong>\\n</p>\\n<p xmlns=\"http://www.w3.org/1999/xhtml\">Gæld er målt til amortiseret kostpris svarende til nominel værdi.</p>\\n<p xmlns=\"http://www.w3.org/1999/xhtml\">\\xa0</p>\\n<p xmlns=\"http://www.w3.org/1999/xhtml\">\\n  <strong>Skyldig skat:</strong>\\n</p>\\n<p xmlns=\"http://www.w3.org/1999/xhtml\">Aktuelle skatteforpligtelser og tilgodehavende aktuel skat indregnes i balancen som beregnet skat af årets skattepligtige indkomst reguleret for skat af tidligere års skattepligtige indkomster samt for betalte acontoskatter.</p>\\n<p xmlns=\"http://www.w3.org/1999/xhtml\">\\xa0</p>\\n<p xmlns=\"http://www.w3.org/1999/xhtml\">\\xa0</p>\\n<p xmlns=\"http://www.w3.org/1999/xhtml\">\\xa0</p>\\n<p xmlns=\"http://www.w3.org/1999/xhtml\">\\xa0</p>'},\n",
       "  'fsa:GrossProfitLoss': [{'@contextRef': 'c0',\n",
       "    '@decimals': '0',\n",
       "    '@unitRef': 'u0',\n",
       "    '#text': '84299'},\n",
       "   {'@contextRef': 'c2',\n",
       "    '@decimals': '0',\n",
       "    '@unitRef': 'u0',\n",
       "    '#text': '399835'}],\n",
       "  'fsa:EmployeeBenefitsExpense': [{'@contextRef': 'c0',\n",
       "    '@decimals': '0',\n",
       "    '@unitRef': 'u0',\n",
       "    '#text': '0'},\n",
       "   {'@contextRef': 'c2',\n",
       "    '@decimals': '0',\n",
       "    '@unitRef': 'u0',\n",
       "    '#text': '270916'}],\n",
       "  'fsa:ProfitLossFromOrdinaryOperatingActivities': [{'@contextRef': 'c0',\n",
       "    '@decimals': '0',\n",
       "    '@unitRef': 'u0',\n",
       "    '#text': '84299'},\n",
       "   {'@contextRef': 'c2',\n",
       "    '@decimals': '0',\n",
       "    '@unitRef': 'u0',\n",
       "    '#text': '128919'}],\n",
       "  'fsa:OtherFinanceIncome': [{'@contextRef': 'c0',\n",
       "    '@decimals': '0',\n",
       "    '@unitRef': 'u0',\n",
       "    '#text': '6644'},\n",
       "   {'@contextRef': 'c2', '@decimals': '0', '@unitRef': 'u0', '#text': '5000'}],\n",
       "  'fsa:OtherFinanceExpenses': {'@contextRef': 'c0',\n",
       "   '@decimals': '0',\n",
       "   '@unitRef': 'u0',\n",
       "   '#text': '191'},\n",
       "  'fsa:ProfitLossFromOrdinaryActivitiesBeforeTax': [{'@contextRef': 'c0',\n",
       "    '@decimals': '0',\n",
       "    '@unitRef': 'u0',\n",
       "    '#text': '90752'},\n",
       "   {'@contextRef': 'c2',\n",
       "    '@decimals': '0',\n",
       "    '@unitRef': 'u0',\n",
       "    '#text': '133919'}],\n",
       "  'fsa:TaxExpense': [{'@contextRef': 'c0',\n",
       "    '@decimals': '0',\n",
       "    '@unitRef': 'u0',\n",
       "    '#text': '21361'},\n",
       "   {'@contextRef': 'c2',\n",
       "    '@decimals': '0',\n",
       "    '@unitRef': 'u0',\n",
       "    '#text': '33473'}],\n",
       "  'fsa:ProfitLoss': [{'@contextRef': 'c0',\n",
       "    '@decimals': '0',\n",
       "    '@unitRef': 'u0',\n",
       "    '#text': '69391'},\n",
       "   {'@contextRef': 'c2',\n",
       "    '@decimals': '0',\n",
       "    '@unitRef': 'u0',\n",
       "    '#text': '100446'},\n",
       "   {'@contextRef': 'c3', '@decimals': '0', '@unitRef': 'u0', '#text': '69391'},\n",
       "   {'@contextRef': 'c4',\n",
       "    '@decimals': '0',\n",
       "    '@unitRef': 'u0',\n",
       "    '#text': '100446'},\n",
       "   {'@contextRef': 'c0', '@decimals': '0', '@unitRef': 'u0', '#text': '69391'},\n",
       "   {'@contextRef': 'c2',\n",
       "    '@decimals': '0',\n",
       "    '@unitRef': 'u0',\n",
       "    '#text': '100446'}],\n",
       "  'fsa:OtherLongtermInvestments': [{'@contextRef': 'c5',\n",
       "    '@decimals': '0',\n",
       "    '@unitRef': 'u0',\n",
       "    '#text': '85000'},\n",
       "   {'@contextRef': 'c6',\n",
       "    '@decimals': '0',\n",
       "    '@unitRef': 'u0',\n",
       "    '#text': '85000'}],\n",
       "  'fsa:OtherLongtermReceivables': [{'@contextRef': 'c5',\n",
       "    '@decimals': '0',\n",
       "    '@unitRef': 'u0',\n",
       "    '#text': '24565'},\n",
       "   {'@contextRef': 'c6',\n",
       "    '@decimals': '0',\n",
       "    '@unitRef': 'u0',\n",
       "    '#text': '36979'}],\n",
       "  'fsa:LongtermInvestmentsAndReceivables': [{'@contextRef': 'c5',\n",
       "    '@decimals': '0',\n",
       "    '@unitRef': 'u0',\n",
       "    '#text': '109565'},\n",
       "   {'@contextRef': 'c6',\n",
       "    '@decimals': '0',\n",
       "    '@unitRef': 'u0',\n",
       "    '#text': '121979'}],\n",
       "  'fsa:NoncurrentAssets': [{'@contextRef': 'c5',\n",
       "    '@decimals': '0',\n",
       "    '@unitRef': 'u0',\n",
       "    '#text': '109565'},\n",
       "   {'@contextRef': 'c6',\n",
       "    '@decimals': '0',\n",
       "    '@unitRef': 'u0',\n",
       "    '#text': '121979'}],\n",
       "  'fsa:ShorttermTradeReceivables': {'@contextRef': 'c5',\n",
       "   '@decimals': '0',\n",
       "   '@unitRef': 'u0',\n",
       "   '#text': '22594'},\n",
       "  'fsa:ContractWorkInProgress': {'@contextRef': 'c6',\n",
       "   '@decimals': '0',\n",
       "   '@unitRef': 'u0',\n",
       "   '#text': '28045'},\n",
       "  'fsa:OtherShorttermReceivables': [{'@contextRef': 'c5',\n",
       "    '@decimals': '0',\n",
       "    '@unitRef': 'u0',\n",
       "    '#text': '421'},\n",
       "   {'@contextRef': 'c6',\n",
       "    '@decimals': '0',\n",
       "    '@unitRef': 'u0',\n",
       "    '#text': '10582'}],\n",
       "  'fsa:DeferredIncomeAssets': {'@contextRef': 'c6',\n",
       "   '@decimals': '0',\n",
       "   '@unitRef': 'u0',\n",
       "   '#text': '4692'},\n",
       "  'fsa:ShorttermReceivables': [{'@contextRef': 'c5',\n",
       "    '@decimals': '0',\n",
       "    '@unitRef': 'u0',\n",
       "    '#text': '23015'},\n",
       "   {'@contextRef': 'c6',\n",
       "    '@decimals': '0',\n",
       "    '@unitRef': 'u0',\n",
       "    '#text': '43319'}],\n",
       "  'fsa:CashAndCashEquivalents': [{'@contextRef': 'c5',\n",
       "    '@decimals': '0',\n",
       "    '@unitRef': 'u0',\n",
       "    '#text': '1481786'},\n",
       "   {'@contextRef': 'c6',\n",
       "    '@decimals': '0',\n",
       "    '@unitRef': 'u0',\n",
       "    '#text': '1637223'}],\n",
       "  'fsa:CurrentAssets': [{'@contextRef': 'c5',\n",
       "    '@decimals': '0',\n",
       "    '@unitRef': 'u0',\n",
       "    '#text': '1504801'},\n",
       "   {'@contextRef': 'c6',\n",
       "    '@decimals': '0',\n",
       "    '@unitRef': 'u0',\n",
       "    '#text': '1680542'}],\n",
       "  'fsa:Assets': [{'@contextRef': 'c5',\n",
       "    '@decimals': '0',\n",
       "    '@unitRef': 'u0',\n",
       "    '#text': '1614366'},\n",
       "   {'@contextRef': 'c6',\n",
       "    '@decimals': '0',\n",
       "    '@unitRef': 'u0',\n",
       "    '#text': '1802521'}],\n",
       "  'fsa:ContributedCapital': [{'@contextRef': 'c5',\n",
       "    '@decimals': '0',\n",
       "    '@unitRef': 'u0',\n",
       "    '#text': '125000'},\n",
       "   {'@contextRef': 'c6',\n",
       "    '@decimals': '0',\n",
       "    '@unitRef': 'u0',\n",
       "    '#text': '125000'}],\n",
       "  'fsa:RetainedEarnings': [{'@contextRef': 'c5',\n",
       "    '@decimals': '0',\n",
       "    '@unitRef': 'u0',\n",
       "    '#text': '866727'},\n",
       "   {'@contextRef': 'c6',\n",
       "    '@decimals': '0',\n",
       "    '@unitRef': 'u0',\n",
       "    '#text': '797336'}],\n",
       "  'fsa:Equity': [{'@contextRef': 'c5',\n",
       "    '@decimals': '0',\n",
       "    '@unitRef': 'u0',\n",
       "    '#text': '991727'},\n",
       "   {'@contextRef': 'c6',\n",
       "    '@decimals': '0',\n",
       "    '@unitRef': 'u0',\n",
       "    '#text': '922336'}],\n",
       "  'fsa:ShorttermTradePayables': [{'@contextRef': 'c5',\n",
       "    '@decimals': '0',\n",
       "    '@unitRef': 'u0',\n",
       "    '#text': '6500'},\n",
       "   {'@contextRef': 'c6',\n",
       "    '@decimals': '0',\n",
       "    '@unitRef': 'u0',\n",
       "    '#text': '15081'}],\n",
       "  'fsa:ShorttermTaxPayables': [{'@contextRef': 'c5',\n",
       "    '@decimals': '0',\n",
       "    '@unitRef': 'u0',\n",
       "    '#text': '9361'},\n",
       "   {'@contextRef': 'c6', '@decimals': '0', '@unitRef': 'u0', '#text': '3491'}],\n",
       "  'fsa:OtherShorttermPayables': [{'@contextRef': 'c5',\n",
       "    '@decimals': '0',\n",
       "    '@unitRef': 'u0',\n",
       "    '#text': '38233'},\n",
       "   {'@contextRef': 'c6',\n",
       "    '@decimals': '0',\n",
       "    '@unitRef': 'u0',\n",
       "    '#text': '97684'}],\n",
       "  'fsa:ShorttermPayablesToShareholdersAndManagement': [{'@contextRef': 'c5',\n",
       "    '@decimals': '0',\n",
       "    '@unitRef': 'u0',\n",
       "    '#text': '568545'},\n",
       "   {'@contextRef': 'c6',\n",
       "    '@decimals': '0',\n",
       "    '@unitRef': 'u0',\n",
       "    '#text': '763929'}],\n",
       "  'fsa:ShorttermLiabilitiesOtherThanProvisions': [{'@contextRef': 'c5',\n",
       "    '@decimals': '0',\n",
       "    '@unitRef': 'u0',\n",
       "    '#text': '622639'},\n",
       "   {'@contextRef': 'c6',\n",
       "    '@decimals': '0',\n",
       "    '@unitRef': 'u0',\n",
       "    '#text': '880185'}],\n",
       "  'fsa:LiabilitiesOtherThanProvisions': [{'@contextRef': 'c5',\n",
       "    '@decimals': '0',\n",
       "    '@unitRef': 'u0',\n",
       "    '#text': '622639'},\n",
       "   {'@contextRef': 'c6',\n",
       "    '@decimals': '0',\n",
       "    '@unitRef': 'u0',\n",
       "    '#text': '880185'}],\n",
       "  'fsa:LiabilitiesAndEquity': [{'@contextRef': 'c5',\n",
       "    '@decimals': '0',\n",
       "    '@unitRef': 'u0',\n",
       "    '#text': '1614366'},\n",
       "   {'@contextRef': 'c6',\n",
       "    '@decimals': '0',\n",
       "    '@unitRef': 'u0',\n",
       "    '#text': '1802521'}],\n",
       "  'fsa:DisclosureOfEmployeeBenefitsExpense': {'@contextRef': 'c0',\n",
       "   '@xml:lang': 'da',\n",
       "   '#text': '<table style=\"border-collapse:collapse; border-image:none; border:0px currentColor; width:650px\" xmlns=\"http://www.w3.org/1999/xhtml\">\\n  <tbody>\\n    <tr>\\n      <th style=\"border-image:none; border:0px currentColor; width:60%\">\\xa0</th>\\n      <th style=\"border-image:none; border:0px currentColor; font-weight:bold; text-align:right; width:25%\">2015</th>\\n      <th style=\"border-image:none; border:0px currentColor; font-weight:bold; text-align:right; width:15%\">2014</th>\\n    </tr>\\n    <tr>\\n      <th>\\xa0</th>\\n      <th style=\"border-bottom-color:currentColor; border-bottom-style:solid; border-bottom-width:1px; padding-bottom:10px; text-align:right\">kr.</th>\\n      <th style=\"border-bottom-color:currentColor; border-bottom-style:solid; border-bottom-width:1px; text-align:right\">t.kr.</th>\\n    </tr>\\n    <tr>\\n      <td>Løn og gager</td>\\n      <td style=\"text-align:right\">0</td>\\n      <td style=\"text-align:right\">268</td>\\n    </tr>\\n    <tr>\\n      <td>Pensionsbidrag</td>\\n      <td style=\"text-align:right\">0</td>\\n      <td style=\"text-align:right\">3</td>\\n    </tr>\\n    <tr>\\n      <td>Andre omkostninger til social sikring</td>\\n      <td style=\"text-align:right\">0</td>\\n      <td style=\"text-align:right\">0</td>\\n    </tr>\\n    <tr>\\n      <td>\\xa0</td>\\n      <td style=\"border-bottom-color:currentColor; border-bottom-style:solid; border-bottom-width:2px; border-top-color:currentColor; border-top-style:solid; border-top-width:2px; text-align:right\">0</td>\\n      <td style=\"border-bottom-color:currentColor; border-bottom-style:solid; border-bottom-width:2px; border-top-color:currentColor; border-top-style:solid; border-top-width:2px; text-align:right\">271</td>\\n    </tr>\\n  </tbody>\\n</table>\\n<p xmlns=\"http://www.w3.org/1999/xhtml\">\\xa0</p>'},\n",
       "  'fsa:DisclosureOfTaxExpenses': {'@contextRef': 'c0',\n",
       "   '@xml:lang': 'da',\n",
       "   '#text': '<table style=\"border-collapse:collapse; border-image:none; border:0px currentColor; width:650px\" xmlns=\"http://www.w3.org/1999/xhtml\">\\n  <tbody>\\n    <tr>\\n      <th style=\"border-image:none; border:0px currentColor; width:60%\">\\xa0</th>\\n      <th style=\"border-image:none; border:0px currentColor; font-weight:bold; text-align:right; width:25%\">2015</th>\\n      <th style=\"border-image:none; border:0px currentColor; font-weight:bold; text-align:right; width:15%\">2014</th>\\n    </tr>\\n    <tr>\\n      <th>\\xa0</th>\\n      <th style=\"border-bottom-color:currentColor; border-bottom-style:solid; border-bottom-width:1px; padding-bottom:10px; text-align:right\">kr.</th>\\n      <th style=\"border-bottom-color:currentColor; border-bottom-style:solid; border-bottom-width:1px; text-align:right\">t.kr.</th>\\n    </tr>\\n    <tr>\\n      <td>Aktuel skat</td>\\n      <td style=\"text-align:right\">21.361</td>\\n      <td style=\"text-align:right\">33</td>\\n    </tr>\\n    <tr>\\n      <td>Ændring af udskudt skat</td>\\n      <td style=\"text-align:right\">0</td>\\n      <td style=\"text-align:right\">0</td>\\n    </tr>\\n    <tr>\\n      <td>Regulering vedrørende tidligere år</td>\\n      <td style=\"text-align:right\">0</td>\\n      <td style=\"text-align:right\">0</td>\\n    </tr>\\n    <tr>\\n      <td>\\xa0</td>\\n      <td style=\"border-bottom-color:currentColor; border-bottom-style:solid; border-bottom-width:2px; border-top-color:currentColor; border-top-style:solid; border-top-width:2px; text-align:right\">21.361</td>\\n      <td style=\"border-bottom-color:currentColor; border-bottom-style:solid; border-bottom-width:2px; border-top-color:currentColor; border-top-style:solid; border-top-width:2px; text-align:right\">33</td>\\n    </tr>\\n  </tbody>\\n</table>\\n<p xmlns=\"http://www.w3.org/1999/xhtml\">\\xa0</p>'},\n",
       "  'fsa:DisclosureOfMainActivitiesAndAccountingAndFinancialMatters': {'@contextRef': 'c0',\n",
       "   '@xml:lang': 'da',\n",
       "   '#text': '<p xmlns=\"http://www.w3.org/1999/xhtml\">Aktiviteten i selskabet er ophørt.</p>\\n<p xmlns=\"http://www.w3.org/1999/xhtml\">Selskabet forventes lukket inden for et par år.</p>'},\n",
       "  'sob:TheReportingEntityAppliesTheExceptionConcerningOptingOutOfTheStatementByManagementEtc': {'@contextRef': 'c0',\n",
       "   '@xml:lang': 'da',\n",
       "   '#text': 'false'},\n",
       "  'fsa:TheCompanyHasPresentedTheAnnualReportEtcWithReferenceToTheDanishFinancialStatementsAct78aConcerningTheExceptionForReportingClassCMediumsizeSubsidiariesWhichChoosesToPresentTheAnnualReportEtcAccordingToReportingClassB': {'@contextRef': 'c0',\n",
       "   '@xml:lang': 'da',\n",
       "   '#text': 'false'},\n",
       "  'fsa:SelectedElementsFromReportingClassC': {'@contextRef': 'c0',\n",
       "   '@xml:lang': 'da',\n",
       "   '#text': 'false'},\n",
       "  'fsa:SelectedElementsFromReportingClassD': {'@contextRef': 'c0',\n",
       "   '@xml:lang': 'da',\n",
       "   '#text': 'false'},\n",
       "  'fsa:AccountingPoliciesAreUnchangedFromPreviousPeriod': {'@contextRef': 'c0',\n",
       "   '@xml:lang': 'da',\n",
       "   '#text': 'true'},\n",
       "  'gsd:PrecedingReportingPeriodStartDate': {'@contextRef': 'c0',\n",
       "   '#text': '2014-01-01'},\n",
       "  'gsd:PredingReportingPeriodEndDate': {'@contextRef': 'c0',\n",
       "   '#text': '2014-12-31'},\n",
       "  'cmn:TypeOfAuditorAssistance': {'@contextRef': 'c0',\n",
       "   '@xml:lang': 'da',\n",
       "   '#text': 'Ingen bistand'},\n",
       "  'gsd:NameOfSubmittingEnterprise': {'@contextRef': 'c0',\n",
       "   '@xml:lang': 'da',\n",
       "   '#text': 'Steen Gylling'},\n",
       "  'gsd:AddressOfSubmittingEnterpriseStreetAndNumber': {'@contextRef': 'c0',\n",
       "   '@xml:lang': 'da',\n",
       "   '#text': 'Falkoner Alle 53, 5.'},\n",
       "  'gsd:AddressOfSubmittingEnterprisePostcodeAndTown': {'@contextRef': 'c0',\n",
       "   '@xml:lang': 'da',\n",
       "   '#text': '2000 Frederiksberg'}}}"
      ]
     },
     "execution_count": 31,
     "metadata": {},
     "output_type": "execute_result"
    }
   ],
   "source": [
    "data"
   ]
  },
  {
   "cell_type": "code",
   "execution_count": 32,
   "metadata": {},
   "outputs": [
    {
     "data": {
      "text/plain": [
       "dict_keys(['@xmlns:xbrli', '@xmlns', '@xmlns:basis', '@xmlns:lnk', '@xmlns:xhtml', '@xmlns:xl', '@xmlns:link', '@xmlns:xs', '@xmlns:dst', '@xmlns:cmn', '@xmlns:gsd', '@xmlns:mrv', '@xmlns:xh11d', '@xmlns:ixt', '@xmlns:fsa', '@xmlns:arr', '@xmlns:ix', '@xmlns:xbrldt', '@xmlns:ifrs', '@xmlns:ref', '@xmlns:xbrldi', '@xmlns:xlink', '@xmlns:xsi', '@xmlns:iso4217', '@xmlns:sob', 'lnk:schemaRef', 'xbrli:context', 'xbrli:unit', 'gsd:InformationOnTypeOfSubmittedReport', 'gsd:DateOfGeneralMeeting', 'gsd:NameAndSurnameOfChairmanOfGeneralMeeting', 'gsd:NameOfReportingEntity', 'gsd:AddressOfReportingEntityStreetName', 'gsd:AddressOfReportingEntityStreetBuildingIdentifier', 'gsd:AddressOfReportingEntityPostCodeIdentifier', 'gsd:AddressOfReportingEntityDistrictName', 'gsd:TelephoneNumberOfReportingEntity', 'gsd:EmailOfReportingEntity', 'gsd:IdentificationNumberCvrOfReportingEntity', 'gsd:ReportingPeriodStartDate', 'gsd:ReportingPeriodEndDate', 'gsd:NameOfFinancialInstitution', 'gsd:AddressOfFinancialStreetName', 'gsd:AddressOfFinancialDistrictName', 'sob:StatementByExecutiveAndSupervisoryBoards', 'sob:PlaceOfSignatureOfStatement', 'sob:DateOfApprovalOfAnnualReport', 'cmn:NameAndSurnameOfMemberOfExecutiveBoard', 'fsa:InformationOnReportingClassOfEntity', 'fsa:ClassOfReportingEntity', 'fsa:DisclosureOfAccountingPolicies', 'fsa:GrossProfitLoss', 'fsa:EmployeeBenefitsExpense', 'fsa:ProfitLossFromOrdinaryOperatingActivities', 'fsa:OtherFinanceIncome', 'fsa:OtherFinanceExpenses', 'fsa:ProfitLossFromOrdinaryActivitiesBeforeTax', 'fsa:TaxExpense', 'fsa:ProfitLoss', 'fsa:OtherLongtermInvestments', 'fsa:OtherLongtermReceivables', 'fsa:LongtermInvestmentsAndReceivables', 'fsa:NoncurrentAssets', 'fsa:ShorttermTradeReceivables', 'fsa:ContractWorkInProgress', 'fsa:OtherShorttermReceivables', 'fsa:DeferredIncomeAssets', 'fsa:ShorttermReceivables', 'fsa:CashAndCashEquivalents', 'fsa:CurrentAssets', 'fsa:Assets', 'fsa:ContributedCapital', 'fsa:RetainedEarnings', 'fsa:Equity', 'fsa:ShorttermTradePayables', 'fsa:ShorttermTaxPayables', 'fsa:OtherShorttermPayables', 'fsa:ShorttermPayablesToShareholdersAndManagement', 'fsa:ShorttermLiabilitiesOtherThanProvisions', 'fsa:LiabilitiesOtherThanProvisions', 'fsa:LiabilitiesAndEquity', 'fsa:DisclosureOfEmployeeBenefitsExpense', 'fsa:DisclosureOfTaxExpenses', 'fsa:DisclosureOfMainActivitiesAndAccountingAndFinancialMatters', 'sob:TheReportingEntityAppliesTheExceptionConcerningOptingOutOfTheStatementByManagementEtc', 'fsa:TheCompanyHasPresentedTheAnnualReportEtcWithReferenceToTheDanishFinancialStatementsAct78aConcerningTheExceptionForReportingClassCMediumsizeSubsidiariesWhichChoosesToPresentTheAnnualReportEtcAccordingToReportingClassB', 'fsa:SelectedElementsFromReportingClassC', 'fsa:SelectedElementsFromReportingClassD', 'fsa:AccountingPoliciesAreUnchangedFromPreviousPeriod', 'gsd:PrecedingReportingPeriodStartDate', 'gsd:PredingReportingPeriodEndDate', 'cmn:TypeOfAuditorAssistance', 'gsd:NameOfSubmittingEnterprise', 'gsd:AddressOfSubmittingEnterpriseStreetAndNumber', 'gsd:AddressOfSubmittingEnterprisePostcodeAndTown'])"
      ]
     },
     "execution_count": 32,
     "metadata": {},
     "output_type": "execute_result"
    }
   ],
   "source": [
    "data['xbrli:xbrl'].keys()"
   ]
  },
  {
   "cell_type": "code",
   "execution_count": null,
   "metadata": {},
   "outputs": [],
   "source": [
    "#make a list of all the keys in the dictionary\n",
    "keys = []\n",
    "for key in data['xbrli:xbrl'].keys():\n",
    "    keys.append(key)"
   ]
  },
  {
   "cell_type": "code",
   "execution_count": 8,
   "metadata": {},
   "outputs": [
    {
     "data": {
      "text/plain": [
       "[{'@contextRef': 'c0', '@decimals': '0', '@unitRef': 'u0', '#text': '84299'},\n",
       " {'@contextRef': 'c2', '@decimals': '0', '@unitRef': 'u0', '#text': '399835'}]"
      ]
     },
     "execution_count": 8,
     "metadata": {},
     "output_type": "execute_result"
    }
   ],
   "source": [
    "data['xbrli:xbrl']['fsa:GrossProfitLoss']"
   ]
  },
  {
   "cell_type": "code",
   "execution_count": 19,
   "metadata": {},
   "outputs": [
    {
     "data": {
      "text/plain": [
       "'31370094'"
      ]
     },
     "execution_count": 19,
     "metadata": {},
     "output_type": "execute_result"
    }
   ],
   "source": [
    "#find cvr number\n",
    "data['xbrli:xbrl']['xbrli:context'][0]['xbrli:entity']['xbrli:identifier']['#text']"
   ]
  },
  {
   "cell_type": "code",
   "execution_count": 25,
   "metadata": {},
   "outputs": [
    {
     "data": {
      "text/plain": [
       "{'xbrli:startDate': '2015-01-01', 'xbrli:endDate': '2015-12-31'}"
      ]
     },
     "execution_count": 25,
     "metadata": {},
     "output_type": "execute_result"
    }
   ],
   "source": [
    "#find period\n",
    "data['xbrli:xbrl']['xbrli:context'][0]['xbrli:period']"
   ]
  },
  {
   "cell_type": "code",
   "execution_count": 21,
   "metadata": {},
   "outputs": [
    {
     "data": {
      "text/plain": [
       "'iso4217:DKK'"
      ]
     },
     "execution_count": 21,
     "metadata": {},
     "output_type": "execute_result"
    }
   ],
   "source": [
    "#find currency\n",
    "data['xbrli:xbrl']['xbrli:unit']['xbrli:measure']"
   ]
  },
  {
   "cell_type": "code",
   "execution_count": 15,
   "metadata": {},
   "outputs": [
    {
     "data": {
      "text/plain": [
       "{'@contextRef': 'c2', '@decimals': '0', '@unitRef': 'u0', '#text': '399835'}"
      ]
     },
     "execution_count": 15,
     "metadata": {},
     "output_type": "execute_result"
    }
   ],
   "source": [
    "data['xbrli:xbrl']['fsa:GrossProfitLoss'][1]"
   ]
  },
  {
   "cell_type": "code",
   "execution_count": null,
   "metadata": {},
   "outputs": [],
   "source": []
  }
 ],
 "metadata": {
  "kernelspec": {
   "display_name": "DL",
   "language": "python",
   "name": "python3"
  },
  "language_info": {
   "codemirror_mode": {
    "name": "ipython",
    "version": 3
   },
   "file_extension": ".py",
   "mimetype": "text/x-python",
   "name": "python",
   "nbconvert_exporter": "python",
   "pygments_lexer": "ipython3",
   "version": "3.9.18"
  }
 },
 "nbformat": 4,
 "nbformat_minor": 2
}
