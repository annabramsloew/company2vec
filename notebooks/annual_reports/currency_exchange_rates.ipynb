{
 "cells": [
  {
   "cell_type": "markdown",
   "metadata": {},
   "source": [
    "# Fetching Currency Rates using the XE API"
   ]
  },
  {
   "cell_type": "code",
   "execution_count": 2,
   "metadata": {},
   "outputs": [],
   "source": [
    "import pandas as pd\n",
    "from xecd_rates_client import XecdClient\n",
    "xecd = XecdClient('dtu613649300', '6ph34n461q5a97fd4ov4r4bhq9')"
   ]
  },
  {
   "cell_type": "code",
   "execution_count": 30,
   "metadata": {},
   "outputs": [],
   "source": [
    "#find monthly average exchange rates for DKK to ['EUR', 'USD', 'SEK', 'CHF', 'GBP', 'NOK'] for 2013-2023\n",
    "\n",
    "currency_dict = {}\n",
    "\n",
    "years = range(2013, 2024)\n",
    "\n",
    "for year in years:\n",
    "    for currency in ['EUR', 'USD', 'SEK', 'CHF', 'GBP', 'NOK']:\n",
    "\n",
    "        dict_id = str(year) + '_' + currency\n",
    "\n",
    "        #xecd.monthly_average(from_currency = currency, to_currency = [\"DKK\"], year=year)\n",
    "        currency_dict[dict_id] = xecd.monthly_average(from_currency = currency, to_currency = [\"DKK\"], year=year)"
   ]
  },
  {
   "cell_type": "code",
   "execution_count": 53,
   "metadata": {},
   "outputs": [],
   "source": [
    "#parse the data into a pandas dataframe\n",
    "#with the columns: year, month, from currency, rate\n",
    "\n",
    "df = pd.DataFrame(columns = ['year', 'month', 'from_currency', 'rate'])\n",
    "\n",
    "for key, value in currency_dict.items():\n",
    "    year = key.split('_')[0]\n",
    "    currency = key.split('_')[1]\n",
    "    data = value['to']['DKK']\n",
    "    for values in data:\n",
    "        #using concat\n",
    "        df_temp = pd.DataFrame({'year': year, 'month': values['month'], 'from_currency': currency, 'rate': values['monthlyAverage']}, index=[0])\n",
    "        df = pd.concat([df, df_temp], ignore_index=True)\n",
    "    "
   ]
  },
  {
   "cell_type": "code",
   "execution_count": 56,
   "metadata": {},
   "outputs": [],
   "source": [
    "#save the dataframe to a csv file\n",
    "folder = '/Users/annabramslow/Library/CloudStorage/Dropbox/DTU/Virk2Vec/Tables/Currency/'\n",
    "df.to_csv(folder + 'currency_exchange_rates.csv', index=False)"
   ]
  }
 ],
 "metadata": {
  "kernelspec": {
   "display_name": "ABA",
   "language": "python",
   "name": "python3"
  },
  "language_info": {
   "codemirror_mode": {
    "name": "ipython",
    "version": 3
   },
   "file_extension": ".py",
   "mimetype": "text/x-python",
   "name": "python",
   "nbconvert_exporter": "python",
   "pygments_lexer": "ipython3",
   "version": "3.9.12"
  }
 },
 "nbformat": 4,
 "nbformat_minor": 2
}
