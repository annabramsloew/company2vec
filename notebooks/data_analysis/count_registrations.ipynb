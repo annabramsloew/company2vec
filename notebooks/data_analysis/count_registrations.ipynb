{
 "cells": [
  {
   "cell_type": "code",
   "execution_count": 1,
   "metadata": {},
   "outputs": [],
   "source": [
    "import pandas as pd\n",
    "import numpy as np\n",
    "import os\n"
   ]
  },
  {
   "cell_type": "code",
   "execution_count": 2,
   "metadata": {},
   "outputs": [],
   "source": [
    "#load all raw data\n",
    "cap_folder = r'/Users/annabramslow/Library/CloudStorage/OneDrive-DanmarksTekniskeUniversitet(2)/Virk2Vec/data/Tables/CapitalChanges'\n",
    "employees_folder = r'/Users/annabramslow/Library/CloudStorage/OneDrive-DanmarksTekniskeUniversitet(2)/Virk2Vec/data/Tables/EmployeeCounts'\n",
    "financials_folder = r'/Users/annabramslow/Library/CloudStorage/OneDrive-DanmarksTekniskeUniversitet(2)/Virk2Vec/data/Tables/Financials'\n",
    "participants_folder = r'/Users/annabramslow/Library/CloudStorage/OneDrive-DanmarksTekniskeUniversitet(2)/Virk2Vec/data/Tables/Participants'\n",
    "punit_folder = r'/Users/annabramslow/Library/CloudStorage/OneDrive-DanmarksTekniskeUniversitet(2)/Virk2Vec/data/Tables/ProductionUnits'\n",
    "registration_folder = r'/Users/annabramslow/Library/CloudStorage/OneDrive-DanmarksTekniskeUniversitet(2)/Virk2Vec/data/Tables/Registrations'"
   ]
  },
  {
   "cell_type": "code",
   "execution_count": 3,
   "metadata": {},
   "outputs": [],
   "source": [
    "#load global set population\n",
    "globalset_file = r'/Users/annabramslow/Library/CloudStorage/OneDrive-DanmarksTekniskeUniversitet(2)/Virk2Vec/data/processed/populations/global_set/population/result.pkl'\n",
    "globalset = pd.read_pickle(globalset_file)"
   ]
  },
  {
   "cell_type": "code",
   "execution_count": 4,
   "metadata": {},
   "outputs": [],
   "source": [
    "#load all csv files from the folders\n",
    "cap_files = os.listdir(cap_folder)\n",
    "employees_files = os.listdir(employees_folder)\n",
    "financials_files = os.listdir(financials_folder)\n",
    "participants_files = os.listdir(participants_folder)\n",
    "punit_files = os.listdir(punit_folder)\n",
    "registration_files = os.listdir(registration_folder)\n",
    "\n",
    "#load all data\n",
    "cap_data = pd.concat([pd.read_csv(os.path.join(cap_folder, file), lineterminator='\\n') for file in cap_files])\n",
    "employees_data = pd.concat([pd.read_csv(os.path.join(employees_folder, file)) for file in employees_files])\n",
    "financials_data = pd.concat([pd.read_csv(os.path.join(financials_folder, file)) for file in financials_files])\n",
    "participants_data = pd.concat([pd.read_csv(os.path.join(participants_folder, file)) for file in participants_files])\n",
    "punit_data = pd.concat([pd.read_csv(os.path.join(punit_folder, file)) for file in punit_files])\n",
    "registration_data = pd.concat([pd.read_csv(os.path.join(registration_folder, file)) for file in registration_files])\n"
   ]
  },
  {
   "cell_type": "code",
   "execution_count": 8,
   "metadata": {},
   "outputs": [
    {
     "data": {
      "text/plain": [
       "Int64Index([10000025, 10000157, 10000211, 10000262, 10000416, 10000459,\n",
       "            10000521, 10000769, 10000866, 10000874,\n",
       "            ...\n",
       "            89990114, 89992818, 89993814, 89993911, 89997518, 89998018,\n",
       "            89998115, 89998719, 89999316, 92405451],\n",
       "           dtype='int64', name='CVR', length=410902)"
      ]
     },
     "execution_count": 8,
     "metadata": {},
     "output_type": "execute_result"
    }
   ],
   "source": [
    "globalset.index"
   ]
  },
  {
   "cell_type": "code",
   "execution_count": 12,
   "metadata": {},
   "outputs": [],
   "source": [
    "start_date = pd.to_datetime(\"2013-01-01\")"
   ]
  },
  {
   "cell_type": "code",
   "execution_count": 15,
   "metadata": {},
   "outputs": [
    {
     "name": "stdout",
     "output_type": "stream",
     "text": [
      "Capital changes: 96310\n"
     ]
    }
   ],
   "source": [
    "cap_data = cap_data[cap_data['CVR'].isin(globalset.index)]\n",
    "cap_data['Date'] = pd.to_datetime(cap_data['Date'])\n",
    "cap_data = cap_data[cap_data['Date'] >= start_date]\n",
    "\n",
    "n_cap_reg = len(cap_data)\n",
    "print(f\"Capital changes: {n_cap_reg}\")"
   ]
  },
  {
   "cell_type": "code",
   "execution_count": 18,
   "metadata": {},
   "outputs": [
    {
     "name": "stdout",
     "output_type": "stream",
     "text": [
      "Employee counts: 11584151\n"
     ]
    }
   ],
   "source": [
    "employees_data = employees_data[employees_data['CVR'].isin(globalset.index)]\n",
    "employees_data['FromDate'] = pd.to_datetime(employees_data['FromDate'])\n",
    "employees_data = employees_data[employees_data['FromDate'] >= start_date]\n",
    "\n",
    "n_emp_reg = len(employees_data)\n",
    "print(f\"Employee counts: {n_emp_reg}\")"
   ]
  },
  {
   "cell_type": "code",
   "execution_count": 19,
   "metadata": {},
   "outputs": [
    {
     "name": "stdout",
     "output_type": "stream",
     "text": [
      "Financials: 2856218\n"
     ]
    }
   ],
   "source": [
    "financials_data = financials_data[financials_data['CVR'].isin(globalset.index)]\n",
    "financials_data['PublicationDate'] = pd.to_datetime(financials_data['PublicationDate'])\n",
    "financials_data = financials_data[financials_data['PublicationDate'] >= start_date]\n",
    "\n",
    "n_fin_reg = len(financials_data)\n",
    "print(f\"Financials: {n_fin_reg}\")"
   ]
  },
  {
   "cell_type": "code",
   "execution_count": 21,
   "metadata": {},
   "outputs": [
    {
     "name": "stdout",
     "output_type": "stream",
     "text": [
      "Participants: 3878279\n"
     ]
    }
   ],
   "source": [
    "participants_data = participants_data[participants_data['CVR'].isin(globalset.index)]\n",
    "participants_data['Date'] = pd.to_datetime(participants_data['Date'], errors='coerce')\n",
    "participants_data = participants_data[participants_data['Date'] >= start_date]\n",
    "\n",
    "n_part_reg = len(participants_data)\n",
    "print(f\"Participants: {n_part_reg}\")"
   ]
  },
  {
   "cell_type": "code",
   "execution_count": 23,
   "metadata": {},
   "outputs": [
    {
     "name": "stdout",
     "output_type": "stream",
     "text": [
      "Production units: 410030\n"
     ]
    }
   ],
   "source": [
    "punit_data = punit_data[punit_data['CVR'].isin(globalset.index)]\n",
    "punit_data['Date'] = pd.to_datetime(punit_data['Date'])\n",
    "punit_data = punit_data[punit_data['Date'] >= start_date]\n",
    "\n",
    "n_punit_reg = len(punit_data)\n",
    "print(f\"Production units: {n_punit_reg}\")\n"
   ]
  },
  {
   "cell_type": "code",
   "execution_count": 25,
   "metadata": {},
   "outputs": [
    {
     "name": "stderr",
     "output_type": "stream",
     "text": [
      "/var/folders/18/tx_vvd811j166hznznnvx7sm0000gn/T/ipykernel_83594/2049654411.py:2: SettingWithCopyWarning: \n",
      "A value is trying to be set on a copy of a slice from a DataFrame.\n",
      "Try using .loc[row_indexer,col_indexer] = value instead\n",
      "\n",
      "See the caveats in the documentation: https://pandas.pydata.org/pandas-docs/stable/user_guide/indexing.html#returning-a-view-versus-a-copy\n",
      "  registration_data['FromDate'] = pd.to_datetime(registration_data['FromDate'])\n"
     ]
    },
    {
     "name": "stdout",
     "output_type": "stream",
     "text": [
      "Registrations: 2410222\n"
     ]
    }
   ],
   "source": [
    "registration_data = registration_data[registration_data['CVR'].isin(globalset.index)]\n",
    "registration_data['FromDate'] = pd.to_datetime(registration_data['FromDate'])\n",
    "registration_data = registration_data[registration_data['FromDate'] >= start_date]\n",
    "\n",
    "n_reg_reg = len(registration_data)\n",
    "print(f\"Registrations: {n_reg_reg}\")"
   ]
  },
  {
   "cell_type": "code",
   "execution_count": 26,
   "metadata": {},
   "outputs": [],
   "source": [
    "total = n_cap_reg + n_emp_reg + n_fin_reg + n_part_reg + n_punit_reg + n_reg_reg"
   ]
  },
  {
   "cell_type": "code",
   "execution_count": 27,
   "metadata": {},
   "outputs": [
    {
     "data": {
      "text/plain": [
       "21235210"
      ]
     },
     "execution_count": 27,
     "metadata": {},
     "output_type": "execute_result"
    }
   ],
   "source": [
    "total"
   ]
  },
  {
   "cell_type": "code",
   "execution_count": null,
   "metadata": {},
   "outputs": [],
   "source": []
  }
 ],
 "metadata": {
  "kernelspec": {
   "display_name": "myvenv",
   "language": "python",
   "name": "python3"
  },
  "language_info": {
   "codemirror_mode": {
    "name": "ipython",
    "version": 3
   },
   "file_extension": ".py",
   "mimetype": "text/x-python",
   "name": "python",
   "nbconvert_exporter": "python",
   "pygments_lexer": "ipython3",
   "version": "3.9.12"
  }
 },
 "nbformat": 4,
 "nbformat_minor": 2
}
